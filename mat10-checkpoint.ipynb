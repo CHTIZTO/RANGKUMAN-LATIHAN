{
 "cells": [
  {
   "cell_type": "code",
   "execution_count": 2,
   "id": "a9e3ec14-3ad2-4b59-9a50-2dd2b9b6c228",
   "metadata": {},
   "outputs": [],
   "source": [
    "nilai = [80, 75, 70]\n",
    "nama = ['Sukarno', 'Diponegoro']\n",
    "campur = ['Javascript', 20, 34.4, True]\n",
    "campur_dalem = [23, [22, 20], 45]"
   ]
  },
  {
   "cell_type": "code",
   "execution_count": 4,
   "id": "ed47f3d1-ffd0-4453-9a5d-4a5bc317ac8e",
   "metadata": {},
   "outputs": [
    {
     "name": "stdout",
     "output_type": "stream",
     "text": [
      "[50, 20, 30, 40]\n"
     ]
    },
    {
     "ename": "TypeError",
     "evalue": "'str' object does not support item assignment",
     "output_type": "error",
     "traceback": [
      "\u001b[1;31m---------------------------------------------------------------------------\u001b[0m",
      "\u001b[1;31mTypeError\u001b[0m                                 Traceback (most recent call last)",
      "Cell \u001b[1;32mIn[4], line 6\u001b[0m\n\u001b[0;32m      3\u001b[0m \u001b[38;5;28mprint\u001b[39m (data)\n\u001b[0;32m      5\u001b[0m nama \u001b[38;5;241m=\u001b[39m \u001b[38;5;124m'\u001b[39m\u001b[38;5;124mAntonius\u001b[39m\u001b[38;5;124m'\u001b[39m\n\u001b[1;32m----> 6\u001b[0m nama[\u001b[38;5;241m0\u001b[39m] \u001b[38;5;241m=\u001b[39m \u001b[38;5;124m'\u001b[39m\u001b[38;5;124mZ\u001b[39m\u001b[38;5;124m'\u001b[39m  \u001b[38;5;66;03m# error\u001b[39;00m\n\u001b[0;32m      7\u001b[0m \u001b[38;5;28mprint\u001b[39m (nama)\n",
      "\u001b[1;31mTypeError\u001b[0m: 'str' object does not support item assignment"
     ]
    }
   ],
   "source": [
    "data = [10, 20, 30, 40]\n",
    "data[0] = 50  # bisa\n",
    "print (data)\n",
    "\n",
    "nama = 'Antonius'\n",
    "nama[0] = 'Z'  # error\n",
    "print (nama)"
   ]
  },
  {
   "cell_type": "code",
   "execution_count": 8,
   "id": "6924e190-d5e7-4177-863f-92d8465f2b11",
   "metadata": {},
   "outputs": [
    {
     "name": "stdout",
     "output_type": "stream",
     "text": [
      "banana\n",
      "cherry\n",
      "['cherry']\n",
      "jeruk\n",
      "cherry\n",
      "['blackcurrant', 'watermelon']\n"
     ]
    }
   ],
   "source": [
    "thislist = [\"apple\", \"banana\", \"cherry\"]\n",
    "print(thislist[1])       # banana\n",
    "print(thislist[-1])      # cherry\n",
    "print(thislist[2:5])     # potong sebagian\n",
    "thislist[1] = \"jeruk\"    # ganti nilai\n",
    "print (thislist[1])\n",
    "thislist2 = [\"apple\", \"banana\", \"cherry\", \"orange\", \"kiwi\", \"mango\"]\n",
    "print (thislist[2])\n",
    "thislist2[1:3] = [\"blackcurrant\", \"watermelon\"]\n",
    "print (thislist2[1:3])"
   ]
  },
  {
   "cell_type": "code",
   "execution_count": 10,
   "id": "555bd2d4-e93c-49fb-a08a-2bf6813cbb8f",
   "metadata": {},
   "outputs": [
    {
     "name": "stdout",
     "output_type": "stream",
     "text": [
      "[1, 2, 3, 4, 5]\n",
      "[1, 2, 3, 1, 2, 3]\n"
     ]
    }
   ],
   "source": [
    "a = [1,2,3]\n",
    "b = [4,5]\n",
    "c = a + b\n",
    "d = a * 2\n",
    "print (c)\n",
    "print(d)"
   ]
  },
  {
   "cell_type": "code",
   "execution_count": 14,
   "id": "5c070c5f-675c-4921-a675-d098cfe2729f",
   "metadata": {},
   "outputs": [
    {
     "name": "stdout",
     "output_type": "stream",
     "text": [
      "['felix', 'ryan', ['tejo'], 'tejo', 'ujo']\n"
     ]
    }
   ],
   "source": [
    "nama = ['kuncoro', 'felix', 'ryan']\n",
    "nama.append(['tejo'])         # jadi satu item\n",
    "nama.extend(['tejo', 'ujo'])  # jadi dua item\n",
    "nama.sort()\n",
    "nama.pop(1)\n",
    "del nama[2]\n",
    "nama.remove('kuncoro')\n",
    "nama.reverse()\n",
    "print (nama)"
   ]
  },
  {
   "cell_type": "code",
   "execution_count": 16,
   "id": "2c439be9-acd4-4934-9b0d-f67448137037",
   "metadata": {},
   "outputs": [
    {
     "name": "stdout",
     "output_type": "stream",
     "text": [
      "['kuncoro', 'buntoro', 'juworo']\n"
     ]
    }
   ],
   "source": [
    "nama = [\"anton\", \"kuncoro\", \"buntoro\", \"juworo\", \"margono\", \"agus\"]\n",
    "newlist = [x for x in nama if \"or\" in x]\n",
    "print(newlist)"
   ]
  },
  {
   "cell_type": "code",
   "execution_count": 18,
   "id": "28683c12-f555-4646-9931-f59142e5959e",
   "metadata": {},
   "outputs": [
    {
     "name": "stdout",
     "output_type": "stream",
     "text": [
      "['ANTON', 'KUNCORO', 'BUNTORO', 'JUWORO', 'MARGONO', 'AGUS']\n"
     ]
    }
   ],
   "source": [
    "nama = [\"anton\", \"kuncoro\", \"buntoro\", \"juworo\", \"margono\", \"agus\"]\n",
    "newlist = [x.upper() for x in nama]\n",
    "print(newlist)"
   ]
  },
  {
   "cell_type": "code",
   "execution_count": 20,
   "id": "42ec8307-6650-4f91-91cf-72582eebe664",
   "metadata": {},
   "outputs": [
    {
     "name": "stdout",
     "output_type": "stream",
     "text": [
      "['kuncoro', 'buntoro', 'margono']\n"
     ]
    }
   ],
   "source": [
    "nama = [\"anton\", \"kuncoro\", \"buntoro\", \"juworo\", \"margono\", \"agus\"]\n",
    "newlist = [x for x in nama if len(x) > 6]\n",
    "print(newlist)"
   ]
  },
  {
   "cell_type": "code",
   "execution_count": 22,
   "id": "df059988-467d-400b-9f84-d38ff818d34c",
   "metadata": {},
   "outputs": [
    {
     "name": "stdout",
     "output_type": "stream",
     "text": [
      "['anton', 'b', 'c']\n"
     ]
    }
   ],
   "source": [
    "def ubah(data):\n",
    "    data[0] = \"anton\"\n",
    "\n",
    "data = [\"a\", \"b\", \"c\"]\n",
    "ubah(data)\n",
    "print(data) # hasilnya: ['anton', 'b', 'c']"
   ]
  },
  {
   "cell_type": "code",
   "execution_count": 24,
   "id": "d1919eb9-47ea-4687-a909-b7652c9a90a7",
   "metadata": {},
   "outputs": [
    {
     "name": "stdout",
     "output_type": "stream",
     "text": [
      "['b', 'c']\n"
     ]
    }
   ],
   "source": [
    "data = [\"a\", \"b\", \"c\"]\n",
    "def hapus(data):\n",
    "    return data[1:]\n",
    "\n",
    "data = hapus(data)\n",
    "print(data)"
   ]
  },
  {
   "cell_type": "code",
   "execution_count": 1,
   "id": "589c78f9-52f3-49cc-aa57-658a46db40ee",
   "metadata": {},
   "outputs": [
    {
     "name": "stdout",
     "output_type": "stream",
     "text": [
      "True\n",
      "False\n"
     ]
    }
   ],
   "source": [
    "def ada_elemen_sama(list1, list2):\n",
    "    return any(elemen in list2 for elemen in list1)\n",
    "list_a = [1, 2, 3, 4]\n",
    "list_b = [5, 6, 3, 8]\n",
    "\n",
    "hasil = ada_elemen_sama(list_a, list_b)\n",
    "print(hasil)\n",
    "\n",
    "list_a = ['apel', 'jeruk', 'pisang']\n",
    "list_b = ['mangga', 'semangka', 'kiwi']\n",
    "\n",
    "print(ada_elemen_sama(list_a, list_b))"
   ]
  },
  {
   "cell_type": "code",
   "execution_count": 5,
   "id": "2d86ba6c-74d1-4912-92b5-91edf8294aca",
   "metadata": {},
   "outputs": [
    {
     "name": "stdout",
     "output_type": "stream",
     "text": [
      "10\n"
     ]
    }
   ],
   "source": [
    "def cari_terbesar_kedua(data):\n",
    "    unik = list(set(data))\n",
    "    unik.sort(reverse=True)\n",
    "    return unik[1]\n",
    "angka = [10, 5, 8, 20, 20, 4]\n",
    "hasil = cari_terbesar_kedua(angka)\n",
    "print(hasil)"
   ]
  },
  {
   "cell_type": "code",
   "execution_count": 7,
   "id": "7b76ab56-f58f-4fbc-b435-e5d927933be6",
   "metadata": {},
   "outputs": [
    {
     "name": "stdout",
     "output_type": "stream",
     "text": [
      "True\n",
      "False\n"
     ]
    }
   ],
   "source": [
    "def apakah_subset(list_A, list_B):\n",
    "    return set(list_A).issubset(set(list_B))\n",
    "A = [1, 2, 3]\n",
    "B = [0, 1, 2, 3, 4, 5]\n",
    "\n",
    "hasil = apakah_subset(A, B)\n",
    "print(hasil)\n",
    "\n",
    "A = [1, 2, 6]\n",
    "B = [0, 1, 2, 3, 4, 5]\n",
    "\n",
    "print(apakah_subset(A, B))"
   ]
  },
  {
   "cell_type": "code",
   "execution_count": null,
   "id": "6b609d09-2ce8-480a-bb91-81c20dfbe529",
   "metadata": {},
   "outputs": [],
   "source": []
  }
 ],
 "metadata": {
  "kernelspec": {
   "display_name": "Python [conda env:base] *",
   "language": "python",
   "name": "conda-base-py"
  },
  "language_info": {
   "codemirror_mode": {
    "name": "ipython",
    "version": 3
   },
   "file_extension": ".py",
   "mimetype": "text/x-python",
   "name": "python",
   "nbconvert_exporter": "python",
   "pygments_lexer": "ipython3",
   "version": "3.12.7"
  }
 },
 "nbformat": 4,
 "nbformat_minor": 5
}
