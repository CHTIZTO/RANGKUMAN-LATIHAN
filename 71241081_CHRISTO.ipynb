{
 "cells": [
  {
   "cell_type": "code",
   "execution_count": 7,
   "id": "5cd44d86-1b16-4a9c-92cf-d3a2096d81d1",
   "metadata": {},
   "outputs": [
    {
     "data": {
      "text/plain": [
       "40.0"
      ]
     },
     "execution_count": 7,
     "metadata": {},
     "output_type": "execute_result"
    }
   ],
   "source": [
    "alas = 10\n",
    "tinggi = 8\n",
    "luas = 0.5 * alas * tinggi \n",
    "luas"
   ]
  },
  {
   "cell_type": "code",
   "execution_count": 9,
   "id": "3a16c36e-875a-4a40-b1e3-fc6f4bd476b5",
   "metadata": {},
   "outputs": [
    {
     "name": "stdout",
     "output_type": "stream",
     "text": [
      "Program konversi US$ ke IDR\n",
      "Kurs saat ini 1 US$ =  16000 Rupiah\n"
     ]
    },
    {
     "name": "stdin",
     "output_type": "stream",
     "text": [
      "Masukkan jumlah uang yang mau ditukar ke Rupiah:  600\n"
     ]
    },
    {
     "name": "stdout",
     "output_type": "stream",
     "text": [
      "Hasil konversi = Rp.  9600000.0\n"
     ]
    }
   ],
   "source": [
    "kursusd = 16000\n",
    "print('Program konversi US$ ke IDR')\n",
    "print('Kurs saat ini 1 US$ = ',kursusd, 'Rupiah')\n",
    "jumlahusd = float(input('Masukkan jumlah uang yang mau ditukar ke Rupiah: '))\n",
    "\n",
    "rupiah = jumlahusd * kursusd\n",
    "print('Hasil konversi = Rp. ', rupiah)\n"
   ]
  },
  {
   "cell_type": "code",
   "execution_count": 13,
   "id": "cc27d73e-0605-454e-91c4-dfc90410d901",
   "metadata": {},
   "outputs": [
    {
     "name": "stdout",
     "output_type": "stream",
     "text": [
      "Anda harus membayar: Rp.  70000.0\n"
     ]
    }
   ],
   "source": [
    "belanja = 100000\n",
    "diskon = 30\n",
    "\n",
    "nominaldiskon = (diskon/100) * belanja\n",
    "bayar = belanja - nominaldiskon \n",
    "\n",
    "print('Anda harus membayar: Rp. ', bayar)\n"
   ]
  },
  {
   "cell_type": "code",
   "execution_count": 53,
   "id": "f50c1bba-951b-484c-a942-e73e264322a7",
   "metadata": {},
   "outputs": [
    {
     "name": "stdout",
     "output_type": "stream",
     "text": [
      "Usia sekarang: 79\n",
      "Tahun saat Trump Usia 80: 2025\n"
     ]
    }
   ],
   "source": [
    "lahir = 1945\n",
    "Usia_sekarang = 2024 - lahir\n",
    "print('Usia sekarang:', Usia_sekarang)\n",
    "\n",
    "Tahun_Saat_Trump_80 = lahir + 80\n",
    "print('Tahun saat Trump Usia 80:',Tahun_Saat_Trump_80)\n"
   ]
  },
  {
   "cell_type": "code",
   "execution_count": 61,
   "id": "90d7ef0e-8967-4524-abd9-6fe95465c49a",
   "metadata": {},
   "outputs": [
    {
     "data": {
      "text/plain": [
       "6655000.000000002"
      ]
     },
     "execution_count": 61,
     "metadata": {},
     "output_type": "execute_result"
    }
   ],
   "source": [
    "P = 5000000\n",
    "r = 0.1\n",
    "n = 1\n",
    "t = 3\n",
    "A = P * (1 + r/n) ** (n*t)\n",
    "A\n"
   ]
  },
  {
   "cell_type": "code",
   "execution_count": null,
   "id": "c83778bd-6b4c-40f6-a4e2-677fb9b6af4c",
   "metadata": {},
   "outputs": [],
   "source": []
  },
  {
   "cell_type": "code",
   "execution_count": null,
   "id": "350e03ff-4317-403c-800a-e69edbdb1b13",
   "metadata": {},
   "outputs": [],
   "source": []
  }
 ],
 "metadata": {
  "kernelspec": {
   "display_name": "Python [conda env:base] *",
   "language": "python",
   "name": "conda-base-py"
  },
  "language_info": {
   "codemirror_mode": {
    "name": "ipython",
    "version": 3
   },
   "file_extension": ".py",
   "mimetype": "text/x-python",
   "name": "python",
   "nbconvert_exporter": "python",
   "pygments_lexer": "ipython3",
   "version": "3.12.7"
  }
 },
 "nbformat": 4,
 "nbformat_minor": 5
}
