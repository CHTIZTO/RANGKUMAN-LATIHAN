{
 "cells": [
  {
   "cell_type": "code",
   "execution_count": 6,
   "id": "a649fd16-9e58-4b1b-b204-fc00fa1da28d",
   "metadata": {},
   "outputs": [
    {
     "name": "stdin",
     "output_type": "stream",
     "text": [
      "siapa nama anda ko\n",
      "berapa umurmu 1\n"
     ]
    },
    {
     "name": "stdout",
     "output_type": "stream",
     "text": [
      "2\n"
     ]
    }
   ],
   "source": [
    "nama = input(\"siapa nama anda\")\n",
    "usia = int(input(\"berapa umurmu\"))\n",
    "hasil = len(nama) * usia\n",
    "print (hasil)"
   ]
  },
  {
   "cell_type": "code",
   "execution_count": 31,
   "id": "9998d706-c7a7-44b2-b86e-c5b64a203962",
   "metadata": {},
   "outputs": [
    {
     "name": "stdout",
     "output_type": "stream",
     "text": [
      "14\n"
     ]
    }
   ],
   "source": [
    "def penjumlahan(angka1,angka2):\n",
    "    return angka1 + angka2\n",
    "print (penjumlahan(5,9))\n"
   ]
  },
  {
   "cell_type": "code",
   "execution_count": 27,
   "id": "4051b3f3-c79c-4c2d-8838-52ef4c47c97c",
   "metadata": {},
   "outputs": [
    {
     "name": "stdout",
     "output_type": "stream",
     "text": [
      "Hello World!\n",
      "Hello World!\n",
      "None\n"
     ]
    }
   ],
   "source": [
    "def print_twice(message):\n",
    "    print(message)\n",
    "    print(message)\n",
    "print(print_twice(\"Hello World!\"))"
   ]
  },
  {
   "cell_type": "code",
   "execution_count": 37,
   "id": "0eac8f2e-40bb-40fa-9895-db0938a4e672",
   "metadata": {},
   "outputs": [
    {
     "name": "stdout",
     "output_type": "stream",
     "text": [
      "70.0\n"
     ]
    }
   ],
   "source": [
    "def tambah(a, b, c):\n",
    "    hasil = a + b + c\n",
    "    return hasil\n",
    "\n",
    "nilai1 = 70\n",
    "nilai2 = 85\n",
    "nilai3 = 55\n",
    "\n",
    "rata_rata = tambah(nilai1, nilai2, nilai3) / 3\n",
    "print(rata_rata)\n"
   ]
  },
  {
   "cell_type": "code",
   "execution_count": 39,
   "id": "07302172-796b-4088-8ac8-69c8fba2c2f9",
   "metadata": {},
   "outputs": [
    {
     "name": "stdout",
     "output_type": "stream",
     "text": [
      "250000.0\n",
      "270000.0\n",
      "200000.0\n"
     ]
    }
   ],
   "source": [
    "def hitung_belanja(belanja, diskon=0):\n",
    "    bayar = belanja - (belanja * diskon)/100\n",
    "    return bayar\n",
    "print(hitung_belanja(250000))\n",
    "print(hitung_belanja(300000, 10))\n",
    "print(hitung_belanja(400000, 50))"
   ]
  },
  {
   "cell_type": "code",
   "execution_count": 43,
   "id": "022f0538-869f-4572-ba46-7b90c63c7acb",
   "metadata": {},
   "outputs": [
    {
     "name": "stdout",
     "output_type": "stream",
     "text": [
      "73\n"
     ]
    }
   ],
   "source": [
    "tambah = lambda a, b: a + b\n",
    "print(tambah(17,56))"
   ]
  },
  {
   "cell_type": "code",
   "execution_count": 45,
   "id": "258b8bfe-f416-4935-987e-f5a4a653508f",
   "metadata": {},
   "outputs": [
    {
     "name": "stdout",
     "output_type": "stream",
     "text": [
      "550000\n",
      "400000\n",
      "300000\n"
     ]
    }
   ],
   "source": [
    "def tagihan_listrik(pemakaian, golongan=3):\n",
    "    bayar = 0\n",
    "    pemakaian_100 = 100 if pemakaian > 100 else pemakaian\n",
    "    pemakaian_100_lebih = pemakaian - pemakaian_100\n",
    "\n",
    "    if golongan == 1:\n",
    "        bayar = pemakaian_100 * 1500 + pemakaian_100_lebih * 2000\n",
    "    elif golongan == 2:\n",
    "        bayar = pemakaian_100 * 2500 + pemakaian_100_lebih * 3000\n",
    "    elif golongan == 3:\n",
    "        bayar = pemakaian_100 * 4000 + pemakaian_100_lebih * 5000\n",
    "    elif golongan == 4:\n",
    "        bayar = pemakaian_100 * 5000 + pemakaian_100_lebih * 7000\n",
    "    return bayar \n",
    "    \n",
    "print(tagihan_listrik(130)) \n",
    "print(tagihan_listrik(80, 4)) \n",
    "print(tagihan_listrik(golongan=1, pemakaian=175)) "
   ]
  },
  {
   "cell_type": "code",
   "execution_count": 51,
   "id": "88898058-e11e-46a1-967d-6b2266db30b7",
   "metadata": {},
   "outputs": [
    {
     "name": "stdout",
     "output_type": "stream",
     "text": [
      "True\n",
      "False\n",
      "True\n"
     ]
    }
   ],
   "source": [
    "def kelipatan_sembilan(angka):\n",
    "    return angka % 9 == 0\n",
    "print(kelipatan_sembilan(27))  \n",
    "print(kelipatan_sembilan(14))  \n",
    "print(kelipatan_sembilan(81))  "
   ]
  },
  {
   "cell_type": "code",
   "execution_count": null,
   "id": "b1a93a99-de14-46b8-ae9c-8b31a1898232",
   "metadata": {},
   "outputs": [],
   "source": []
  }
 ],
 "metadata": {
  "kernelspec": {
   "display_name": "Python [conda env:base] *",
   "language": "python",
   "name": "conda-base-py"
  },
  "language_info": {
   "codemirror_mode": {
    "name": "ipython",
    "version": 3
   },
   "file_extension": ".py",
   "mimetype": "text/x-python",
   "name": "python",
   "nbconvert_exporter": "python",
   "pygments_lexer": "ipython3",
   "version": "3.12.7"
  }
 },
 "nbformat": 4,
 "nbformat_minor": 5
}
