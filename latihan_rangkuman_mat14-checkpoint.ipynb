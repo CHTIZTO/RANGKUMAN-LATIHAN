{
 "cells": [
  {
   "cell_type": "code",
   "execution_count": null,
   "id": "7e531f58-3b15-467b-87f9-41bb5251a243",
   "metadata": {},
   "outputs": [],
   "source": [
    "def function_name(parameter_list):\n",
    "    ...\n",
    "    function_name(...)\n",
    "    ..."
   ]
  },
  {
   "cell_type": "code",
   "execution_count": 2,
   "id": "05f56e53-3153-4adb-9ae2-2d1132542373",
   "metadata": {},
   "outputs": [
    {
     "name": "stdout",
     "output_type": "stream",
     "text": [
      "24\n"
     ]
    }
   ],
   "source": [
    "def faktorial(n):\n",
    "    if n == 0 or n == 1:\n",
    "        return 1\n",
    "    else:\n",
    "        return faktorial(n - 1) * n\n",
    "\n",
    "print(faktorial(4))"
   ]
  },
  {
   "cell_type": "code",
   "execution_count": null,
   "id": "0803b9a1-9a20-4f78-98c0-968bf7d739eb",
   "metadata": {},
   "outputs": [],
   "source": [
    "faktorial(4)\n",
    "→ faktorial(3) * 4\n",
    "→ faktorial(2) * 3 * 4\n",
    "→ faktorial(1) * 2 * 3 * 4\n",
    "→ 1 * 2 * 3 * 4 = 24"
   ]
  },
  {
   "cell_type": "code",
   "execution_count": 4,
   "id": "c223b860-ff81-4ce9-b069-df184b7e4d6b",
   "metadata": {},
   "outputs": [
    {
     "name": "stdout",
     "output_type": "stream",
     "text": [
      "2 + 2 + 2 + 2 = 8\n"
     ]
    }
   ],
   "source": [
    "def perkalian(bil1, bil2):\n",
    "    if bil2 == 1:\n",
    "        print(\"%d = \" % (bil1), end='')\n",
    "        return bil1\n",
    "    else:\n",
    "        print(\"%d + \" % (bil1), end='')\n",
    "        return bil1 + perkalian(bil1, bil2 - 1)\n",
    "\n",
    "print(perkalian(2, 4))"
   ]
  },
  {
   "cell_type": "code",
   "execution_count": 6,
   "id": "716e6598-9a7b-4ca2-9075-51b54e6f2bfa",
   "metadata": {},
   "outputs": [
    {
     "name": "stdout",
     "output_type": "stream",
     "text": [
      "2 * 2 * 2 * 2 = 16\n"
     ]
    }
   ],
   "source": [
    "def pangkat(bil1, bil2):\n",
    "    if bil2 == 1:\n",
    "        print(\"%d = \" % (bil1), end='')\n",
    "        return bil1\n",
    "    else:\n",
    "        print(\"%d * \" % (bil1), end='')\n",
    "        return bil1 * pangkat(bil1, bil2 - 1)\n",
    "\n",
    "print(pangkat(2, 4))"
   ]
  },
  {
   "cell_type": "code",
   "execution_count": 8,
   "id": "4ce651da-5753-49be-bc52-cae0f3866fc1",
   "metadata": {},
   "outputs": [
    {
     "name": "stdout",
     "output_type": "stream",
     "text": [
      "1 ,  1 , 2 , 3 , 5 , 8 , 13 , "
     ]
    }
   ],
   "source": [
    "def fibo(n):\n",
    "    f1, f2 = 1, 1\n",
    "    print(f1, \", \", f2, \", \", end='')\n",
    "    for i in range(2, n):\n",
    "        fib = f1 + f2\n",
    "        f1 = f2\n",
    "        f2 = fib\n",
    "        print(fib, \", \", end='')\n",
    "\n",
    "fibo(7)"
   ]
  },
  {
   "cell_type": "code",
   "execution_count": 10,
   "id": "95674354-b2b9-4229-b758-48681be92c92",
   "metadata": {},
   "outputs": [
    {
     "name": "stdout",
     "output_type": "stream",
     "text": [
      "13\n"
     ]
    }
   ],
   "source": [
    "def fibo(n):\n",
    "    if n == 1 or n == 2:\n",
    "        return 1\n",
    "    else:\n",
    "        return fibo(n - 1) + fibo(n - 2)\n",
    "\n",
    "print(fibo(7))"
   ]
  },
  {
   "cell_type": "code",
   "execution_count": 12,
   "id": "b2ed2787-d069-4114-9b0a-c7ef8a8ef02a",
   "metadata": {},
   "outputs": [
    {
     "name": "stdout",
     "output_type": "stream",
     "text": [
      "Silakan masukkan bilangan dan basis:\n"
     ]
    },
    {
     "name": "stdin",
     "output_type": "stream",
     "text": [
      "Bilangan:  9\n",
      "Basis (2/8/16):  8\n"
     ]
    },
    {
     "name": "stdout",
     "output_type": "stream",
     "text": [
      "11\n"
     ]
    }
   ],
   "source": [
    "def toBasis(n, base):\n",
    "    convertString = \"0123456789ABCDEF\"\n",
    "    if n < base:\n",
    "        return convertString[n]\n",
    "    else:\n",
    "        return toBasis(n // base, base) + convertString[n % base]\n",
    "\n",
    "print(\"Silakan masukkan bilangan dan basis:\")\n",
    "angka = int(input(\"Bilangan: \"))\n",
    "basis = int(input(\"Basis (2/8/16): \"))\n",
    "print(toBasis(angka, basis))"
   ]
  },
  {
   "cell_type": "code",
   "execution_count": 14,
   "id": "d224dd6f-b5bb-4518-b741-1d90673fb8db",
   "metadata": {},
   "outputs": [
    {
     "name": "stdout",
     "output_type": "stream",
     "text": [
      "5040\n"
     ]
    }
   ],
   "source": [
    "def permutasi(m, n):\n",
    "    # m adalah batas atas, n adalah batas bawah (m > n)\n",
    "    if n == 0:\n",
    "        # jika n = 0, maka hasilnya m! / (m - 0)! = 1\n",
    "        return 1\n",
    "    else:\n",
    "        # kalau n > 0, maka panggil dirinya sendiri sampai n = 0\n",
    "        return permutasi(m, n - 1) * (m - n + 1)\n",
    "\n",
    "print(permutasi(10, 4))"
   ]
  },
  {
   "cell_type": "code",
   "execution_count": null,
   "id": "41700480-879e-41f6-90cd-d587550e6a27",
   "metadata": {},
   "outputs": [],
   "source": []
  }
 ],
 "metadata": {
  "kernelspec": {
   "display_name": "Python [conda env:base] *",
   "language": "python",
   "name": "conda-base-py"
  },
  "language_info": {
   "codemirror_mode": {
    "name": "ipython",
    "version": 3
   },
   "file_extension": ".py",
   "mimetype": "text/x-python",
   "name": "python",
   "nbconvert_exporter": "python",
   "pygments_lexer": "ipython3",
   "version": "3.12.7"
  }
 },
 "nbformat": 4,
 "nbformat_minor": 5
}
