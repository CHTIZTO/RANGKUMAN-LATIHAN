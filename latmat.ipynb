{
 "cells": [
  {
   "cell_type": "code",
   "execution_count": 1,
   "id": "d3203fa0-d18e-424d-9750-7d3d7e6bf236",
   "metadata": {},
   "outputs": [
    {
     "name": "stdout",
     "output_type": "stream",
     "text": [
      "4\n",
      "10.876\n",
      "Z\n",
      "True\n",
      "False\n"
     ]
    }
   ],
   "source": [
    "print(4)\n",
    "print(10.876)\n",
    "print('Z')\n",
    "print('True')\n",
    "print('False')\n"
   ]
  },
  {
   "cell_type": "code",
   "execution_count": 7,
   "id": "ec08367a-cff1-44ae-81f6-acedafcd79fd",
   "metadata": {},
   "outputs": [
    {
     "name": "stdout",
     "output_type": "stream",
     "text": [
      "5 tipenya adalah  <class 'int'>\n",
      "2.0 tipenya adalah  <class 'float'>\n",
      "(1+2j) tipenya adalah  <class 'complex'>\n"
     ]
    }
   ],
   "source": [
    "x=5\n",
    "print(x, \"tipenya adalah \", type(x))\n",
    "x = 2.0\n",
    "print(x, \"tipenya adalah \", type(x))\n",
    "x = 1+2j\n",
    "print(x, \"tipenya adalah \",type(x))"
   ]
  },
  {
   "cell_type": "code",
   "execution_count": 9,
   "id": "fb432939-c839-4c84-bf11-e411a998d134",
   "metadata": {},
   "outputs": [
    {
     "name": "stdout",
     "output_type": "stream",
     "text": [
      "1 0 0\n"
     ]
    }
   ],
   "source": [
    "print(1,000,000)\n"
   ]
  },
  {
   "cell_type": "code",
   "execution_count": 45,
   "id": "474e4c4b-ff95-4bee-ba44-f368f3e17ad0",
   "metadata": {},
   "outputs": [
    {
     "name": "stdout",
     "output_type": "stream",
     "text": [
      "kita akan memasukan value ini ke variabel a\n"
     ]
    }
   ],
   "source": [
    "nama_variabel_terserah = 'kita akan memasukan value ini ke variabel a'\n",
    "print (nama_variabel_terserah)\n"
   ]
  },
  {
   "cell_type": "code",
   "execution_count": 49,
   "id": "3cb58788-2e9e-4b11-8d41-55ab58ca896b",
   "metadata": {},
   "outputs": [
    {
     "name": "stdout",
     "output_type": "stream",
     "text": [
      "1\n",
      "2\n"
     ]
    }
   ],
   "source": [
    "dua = 7 % 3\n",
    "print (dua)\n",
    "satu = 7 // 3\n",
    "print (satu)"
   ]
  },
  {
   "cell_type": "code",
   "execution_count": 51,
   "id": "6ba05318-597e-4bdd-9833-b180579bb91a",
   "metadata": {},
   "outputs": [
    {
     "name": "stdout",
     "output_type": "stream",
     "text": [
      "29\n"
     ]
    }
   ],
   "source": [
    "satu = 22\n",
    "dua = 7\n",
    "print (satu + dua)"
   ]
  },
  {
   "cell_type": "code",
   "execution_count": 57,
   "id": "50c23b83-0037-4c9f-8844-affc2dd22861",
   "metadata": {},
   "outputs": [
    {
     "name": "stdout",
     "output_type": "stream",
     "text": [
      "aku aku aku aku aku \n"
     ]
    }
   ],
   "source": [
    "satu = 'aku ' \n",
    "dua = 5\n",
    "print (satu * dua)"
   ]
  },
  {
   "cell_type": "code",
   "execution_count": 5,
   "id": "bd52539d-a39f-487d-b7d5-6972c5f73221",
   "metadata": {},
   "outputs": [
    {
     "name": "stdout",
     "output_type": "stream",
     "text": [
      "uyuy\n"
     ]
    }
   ],
   "source": [
    "#gatau mau nulis apa\n",
    "print (\"uyuy\")"
   ]
  },
  {
   "cell_type": "code",
   "execution_count": null,
   "id": "ff9c1f81-a6e5-4ddc-8067-df32c0bf4728",
   "metadata": {},
   "outputs": [],
   "source": []
  }
 ],
 "metadata": {
  "kernelspec": {
   "display_name": "Python [conda env:base] *",
   "language": "python",
   "name": "conda-base-py"
  },
  "language_info": {
   "codemirror_mode": {
    "name": "ipython",
    "version": 3
   },
   "file_extension": ".py",
   "mimetype": "text/x-python",
   "name": "python",
   "nbconvert_exporter": "python",
   "pygments_lexer": "ipython3",
   "version": "3.12.7"
  }
 },
 "nbformat": 4,
 "nbformat_minor": 5
}
