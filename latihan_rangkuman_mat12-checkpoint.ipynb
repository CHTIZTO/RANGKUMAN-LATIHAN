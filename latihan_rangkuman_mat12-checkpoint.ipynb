{
 "cells": [
  {
   "cell_type": "code",
   "execution_count": 1,
   "id": "2906a0c7-41de-4a87-aa60-c4703dd06446",
   "metadata": {},
   "outputs": [
    {
     "ename": "TypeError",
     "evalue": "'tuple' object does not support item assignment",
     "output_type": "error",
     "traceback": [
      "\u001b[1;31m---------------------------------------------------------------------------\u001b[0m",
      "\u001b[1;31mTypeError\u001b[0m                                 Traceback (most recent call last)",
      "Cell \u001b[1;32mIn[1], line 2\u001b[0m\n\u001b[0;32m      1\u001b[0m t \u001b[38;5;241m=\u001b[39m (\u001b[38;5;124m'\u001b[39m\u001b[38;5;124ma\u001b[39m\u001b[38;5;124m'\u001b[39m, \u001b[38;5;124m'\u001b[39m\u001b[38;5;124mb\u001b[39m\u001b[38;5;124m'\u001b[39m, \u001b[38;5;124m'\u001b[39m\u001b[38;5;124mc\u001b[39m\u001b[38;5;124m'\u001b[39m, \u001b[38;5;124m'\u001b[39m\u001b[38;5;124md\u001b[39m\u001b[38;5;124m'\u001b[39m, \u001b[38;5;124m'\u001b[39m\u001b[38;5;124me\u001b[39m\u001b[38;5;124m'\u001b[39m)\n\u001b[1;32m----> 2\u001b[0m t[\u001b[38;5;241m0\u001b[39m] \u001b[38;5;241m=\u001b[39m \u001b[38;5;124m'\u001b[39m\u001b[38;5;124mA\u001b[39m\u001b[38;5;124m'\u001b[39m\n",
      "\u001b[1;31mTypeError\u001b[0m: 'tuple' object does not support item assignment"
     ]
    }
   ],
   "source": [
    "t = ('a', 'b', 'c', 'd', 'e')\n",
    "t[0] = 'A'  # --> Error! Karena tuple immutable."
   ]
  },
  {
   "cell_type": "code",
   "execution_count": 5,
   "id": "f19bf40f-e6ce-4bc7-99a8-5b3b83184f4d",
   "metadata": {},
   "outputs": [
    {
     "name": "stdout",
     "output_type": "stream",
     "text": [
      "('A', 'b', 'c', 'd', 'e')\n"
     ]
    }
   ],
   "source": [
    "t = ('A',) + t[1:]\n",
    "print(t)"
   ]
  },
  {
   "cell_type": "code",
   "execution_count": 19,
   "id": "1d8b114e-c25b-4a6d-bd59-a09151060322",
   "metadata": {},
   "outputs": [
    {
     "data": {
      "text/plain": [
       "False"
      ]
     },
     "execution_count": 19,
     "metadata": {},
     "output_type": "execute_result"
    }
   ],
   "source": [
    "# (0, 1, 2) < (0, 3, 4) \n",
    "(0, 1, 2000000) > (0, 3, 40000000)"
   ]
  },
  {
   "cell_type": "code",
   "execution_count": 21,
   "id": "fea86b12-3886-4906-9a05-1a21cbe6e699",
   "metadata": {},
   "outputs": [
    {
     "name": "stdout",
     "output_type": "stream",
     "text": [
      "['yonder', 'window', 'breaks', 'light', 'what', 'soft', 'but', 'in']\n"
     ]
    }
   ],
   "source": [
    "kalimat = 'but soft what light in yonder window breaks'\n",
    "daftar_kata = kalimat.split()\n",
    "\n",
    "t = list()\n",
    "for kata in daftar_kata:\n",
    "    t.append((len(kata), kata))  # bikin tuple (panjang, kata)\n",
    "\n",
    "t.sort(reverse=True)  # urutkan dari panjang terbesar\n",
    "\n",
    "urutan = list()\n",
    "for panjang, kata in t:\n",
    "    urutan.append(kata)\n",
    "\n",
    "print(urutan)"
   ]
  },
  {
   "cell_type": "code",
   "execution_count": 23,
   "id": "c382d50a-134f-4421-ac26-8c2ab5deda47",
   "metadata": {},
   "outputs": [
    {
     "name": "stdout",
     "output_type": "stream",
     "text": [
      "have\n",
      "fun\n"
     ]
    }
   ],
   "source": [
    "m = ['have', 'fun']\n",
    "x, y = m\n",
    "print(x)  \n",
    "print(y)  "
   ]
  },
  {
   "cell_type": "code",
   "execution_count": null,
   "id": "52dbcf32-7c99-4dde-af82-de3d8d770549",
   "metadata": {},
   "outputs": [],
   "source": [
    "x = m[0]\n",
    "y = m[1]"
   ]
  },
  {
   "cell_type": "code",
   "execution_count": null,
   "id": "ad9327c4-dc64-4910-8373-256f063376fe",
   "metadata": {},
   "outputs": [],
   "source": [
    "a, b = b, a"
   ]
  },
  {
   "cell_type": "code",
   "execution_count": 25,
   "id": "e48a138d-1e19-45bc-bbcf-acf51d615442",
   "metadata": {},
   "outputs": [
    {
     "ename": "ValueError",
     "evalue": "too many values to unpack (expected 2)",
     "output_type": "error",
     "traceback": [
      "\u001b[1;31m---------------------------------------------------------------------------\u001b[0m",
      "\u001b[1;31mValueError\u001b[0m                                Traceback (most recent call last)",
      "Cell \u001b[1;32mIn[25], line 1\u001b[0m\n\u001b[1;32m----> 1\u001b[0m a, b \u001b[38;5;241m=\u001b[39m \u001b[38;5;241m1\u001b[39m, \u001b[38;5;241m2\u001b[39m, \u001b[38;5;241m3\u001b[39m\n",
      "\u001b[1;31mValueError\u001b[0m: too many values to unpack (expected 2)"
     ]
    }
   ],
   "source": [
    "a, b = 1, 2, 3"
   ]
  },
  {
   "cell_type": "code",
   "execution_count": 27,
   "id": "ae100bf5-0fba-4269-986a-07072ec6a79c",
   "metadata": {},
   "outputs": [
    {
     "name": "stdout",
     "output_type": "stream",
     "text": [
      "didanendya\n",
      "ti.ukdw.ac.id\n"
     ]
    }
   ],
   "source": [
    "email = 'didanendya@ti.ukdw.ac.id'\n",
    "username, domain = email.split('@')\n",
    "\n",
    "print(username)  \n",
    "print(domain)    "
   ]
  },
  {
   "cell_type": "code",
   "execution_count": null,
   "id": "216e00e7-d360-46d6-8bda-f3325e369b6e",
   "metadata": {},
   "outputs": [],
   "source": [
    "d = {'a': 10, 'b': 1, 'c': 2}\n",
    "t = list(d.items())\n",
    "print(t)\n",
    "# Output: [('b', 1), ('a', 10), ('c', 22)]"
   ]
  },
  {
   "cell_type": "code",
   "execution_count": 7,
   "id": "2fb75fbf-3086-4da8-ae35-4669b7fdf613",
   "metadata": {},
   "outputs": [
    {
     "name": "stdout",
     "output_type": "stream",
     "text": [
      "[('a', 10), ('b', 1), ('c', 22)]\n"
     ]
    }
   ],
   "source": [
    "d = {'a': 10, 'b': 1, 'c': 22}\n",
    "t = list(d.items())\n",
    "t.sort()\n",
    "print(t)\n"
   ]
  },
  {
   "cell_type": "code",
   "execution_count": 15,
   "id": "4cb15693-e782-4a43-9e8c-ce728c304901",
   "metadata": {},
   "outputs": [
    {
     "name": "stdout",
     "output_type": "stream",
     "text": [
      "10 a\n",
      "1 b\n",
      "2 c\n"
     ]
    }
   ],
   "source": [
    "for key, val in d.items():\n",
    "    print(val, key)"
   ]
  },
  {
   "cell_type": "code",
   "execution_count": 21,
   "id": "6a1ceb14-c647-4480-a27d-f8c961de8985",
   "metadata": {},
   "outputs": [
    {
     "name": "stdout",
     "output_type": "stream",
     "text": [
      "10 a\n",
      "1 b\n",
      "22 c\n"
     ]
    }
   ],
   "source": [
    "d = {'a': 10, 'b': 1, 'c': 22}\n",
    "for key, val in d.items():\n",
    "    print(val, key)"
   ]
  },
  {
   "cell_type": "code",
   "execution_count": 23,
   "id": "f402cf45-6298-461f-91c6-41bbd9b5b902",
   "metadata": {},
   "outputs": [
    {
     "name": "stdout",
     "output_type": "stream",
     "text": [
      "[(22, 'c'), (10, 'a'), (1, 'b')]\n"
     ]
    }
   ],
   "source": [
    "d = {'a': 10, 'b': 1, 'c': 22}\n",
    "l = list()\n",
    "\n",
    "for key, val in d.items():\n",
    "    l.append((val, key))\n",
    "\n",
    "l.sort(reverse=True)\n",
    "print(l)"
   ]
  },
  {
   "cell_type": "code",
   "execution_count": 25,
   "id": "2e8b6428-716e-4077-a1d5-3c557fadd84d",
   "metadata": {},
   "outputs": [
    {
     "name": "stdout",
     "output_type": "stream",
     "text": [
      "61 i\n",
      "42 and\n",
      "40 romeo\n",
      "34 to\n",
      "34 the\n",
      "32 thou\n",
      "32 juliet\n",
      "30 that\n",
      "29 my\n",
      "24 thee\n"
     ]
    }
   ],
   "source": [
    "import string\n",
    "\n",
    "fhand = open('romeo-full.txt')       # Buka file teks\n",
    "counts = dict()                      # Dictionary untuk menghitung kata\n",
    "\n",
    "for line in fhand:\n",
    "    line = line.translate(str.maketrans('', '', string.punctuation))  # Hapus tanda baca\n",
    "    line = line.lower()                                                # Huruf kecil semua\n",
    "    words = line.split()                                               # Pisah jadi kata-kata\n",
    "\n",
    "    for word in words:\n",
    "        if word not in counts:\n",
    "            counts[word] = 1\n",
    "        else:\n",
    "            counts[word] += 1\n",
    "\n",
    "# Ubah dictionary menjadi list of tuple (jumlah, kata)\n",
    "lst = list()\n",
    "for key, val in counts.items():\n",
    "    lst.append((val, key))\n",
    "\n",
    "lst.sort(reverse=True)     # Urutkan berdasarkan jumlah kemunculan (val)\n",
    "\n",
    "# Cetak 10 kata terbanyak\n",
    "for val, key in lst[:10]:\n",
    "    print(val, key)"
   ]
  },
  {
   "cell_type": "code",
   "execution_count": 29,
   "id": "923c4854-5fca-411f-883c-132f119dbf8a",
   "metadata": {},
   "outputs": [
    {
     "name": "stdout",
     "output_type": "stream",
     "text": [
      "dida nendya 088112266\n"
     ]
    }
   ],
   "source": [
    "directory = dict() \n",
    "directory[('nendya', 'dida')] = '088112266'\n",
    "\n",
    "for last, first in directory:\n",
    "    print(first, last, directory[(last, first)])"
   ]
  },
  {
   "cell_type": "code",
   "execution_count": null,
   "id": "12d1676c-7720-4e4f-8b38-b522e4afe57a",
   "metadata": {},
   "outputs": [],
   "source": []
  }
 ],
 "metadata": {
  "kernelspec": {
   "display_name": "Python [conda env:base] *",
   "language": "python",
   "name": "conda-base-py"
  },
  "language_info": {
   "codemirror_mode": {
    "name": "ipython",
    "version": 3
   },
   "file_extension": ".py",
   "mimetype": "text/x-python",
   "name": "python",
   "nbconvert_exporter": "python",
   "pygments_lexer": "ipython3",
   "version": "3.12.7"
  }
 },
 "nbformat": 4,
 "nbformat_minor": 5
}
