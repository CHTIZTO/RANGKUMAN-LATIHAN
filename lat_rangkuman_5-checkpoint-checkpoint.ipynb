{
 "cells": [
  {
   "cell_type": "code",
   "execution_count": 6,
   "id": "a649fd16-9e58-4b1b-b204-fc00fa1da28d",
   "metadata": {},
   "outputs": [
    {
     "name": "stdin",
     "output_type": "stream",
     "text": [
      "siapa nama anda ko\n",
      "berapa umurmu 1\n"
     ]
    },
    {
     "name": "stdout",
     "output_type": "stream",
     "text": [
      "2\n"
     ]
    }
   ],
   "source": [
    "nama = input(\"siapa nama anda\")\n",
    "usia = int(input(\"berapa umurmu\"))\n",
    "hasil = len(nama) * usia\n",
    "print (hasil)"
   ]
  },
  {
   "cell_type": "code",
   "execution_count": 15,
   "id": "9998d706-c7a7-44b2-b86e-c5b64a203962",
   "metadata": {},
   "outputs": [
    {
     "name": "stdout",
     "output_type": "stream",
     "text": [
      "9\n"
     ]
    }
   ],
   "source": [
    "def penjumlahan(angka1,angka2):\n",
    "    return angka1 + angka2\n",
    "print (penjumlahan(4,5))"
   ]
  },
  {
   "cell_type": "code",
   "execution_count": 16,
   "id": "258b8bfe-f416-4935-987e-f5a4a653508f",
   "metadata": {},
   "outputs": [
    {
     "ename": "IndentationError",
     "evalue": "expected an indented block after function definition on line 1 (4263380696.py, line 2)",
     "output_type": "error",
     "traceback": [
      "\u001b[1;36m  Cell \u001b[1;32mIn[16], line 2\u001b[1;36m\u001b[0m\n\u001b[1;33m    bayar = 0\u001b[0m\n\u001b[1;37m    ^\u001b[0m\n\u001b[1;31mIndentationError\u001b[0m\u001b[1;31m:\u001b[0m expected an indented block after function definition on line 1\n"
     ]
    }
   ],
   "source": [
    "def tagihan_listrik(pemakaian, golongan=3):\n",
    "bayar = 0\n",
    "pemakaian_100 = 100 if pemakaian > 100 else pemakaian\n",
    "pemakaian_100_lebih = pemakaian- pemakaian_100\n",
    "if golongan == 1:\n",
    "    bayar = pemakaian_100 * 1500 + pemakaian_100_lebih * 2000\n",
    "elif golongan == 2:\n",
    "    bayar = pemakaian_100 * 2500 + pemakaian_100_lebih * 3000\n",
    "elif golongan == 3:\n",
    "    bayar = pemakaian_100 * 4000 + pemakaian_100_lebih * 5000\n",
    "elif golongan == 4:\n",
    "    bayar = pemakaian_100 * 5000 + pemakaian_100_lebih * 7000\n",
    "    return bayar\n",
    "print(tagihan_listrik(130))\n",
    "print(tagihan_listrik(80, 4))\n",
    "print(tagihan_listrik(golongan=1, pemakaian=175))"
   ]
  },
  {
   "cell_type": "code",
   "execution_count": 17,
   "id": "bdbb3087-50cf-4dec-a97b-3820d7234b46",
   "metadata": {},
   "outputs": [
    {
     "ename": "SyntaxError",
     "evalue": "invalid syntax (949712459.py, line 3)",
     "output_type": "error",
     "traceback": [
      "\u001b[1;36m  Cell \u001b[1;32mIn[17], line 3\u001b[1;36m\u001b[0m\n\u001b[1;33m    return (jam): (menit)\u001b[0m\n\u001b[1;37m                ^\u001b[0m\n\u001b[1;31mSyntaxError\u001b[0m\u001b[1;31m:\u001b[0m invalid syntax\n"
     ]
    }
   ],
   "source": [
    "def konversi_waktu(jam,menit, format_24 = True):\n",
    "    if format_24 == True :\n",
    "        if jam < 12:\n",
    "            if menit < 10:\n",
    "                return f\"0{jam}:0{menit}\"\n",
    "            else :\n",
    "                return f\"0{jam}:{menit}\n",
    "        else:\n",
    "        if menit < 10: \n",
    "        \n",
    "        elif jam > 10 :\n",
    "            return (jam) : (menit) \n",
    "    elif format_24 == False:\n",
    "        if \n",
    "        return (jam - 12) : (menit), \"PM\""
   ]
  },
  {
   "cell_type": "code",
   "execution_count": null,
   "id": "df9a7975-8cb6-4736-a9b9-1db0d853e5b4",
   "metadata": {},
   "outputs": [],
   "source": [
    "def konversi_waktu(jam: int, menit: int, format_24: bool = True) -> str:\n",
    "    if format_24:\n",
    "        if jam == 12: \n",
    "            jam_24 = 0\n",
    "        else:\n",
    "            jam_24 = jam\n",
    "        return f\"{jam_24:02}:{menit:02}\"\n",
    "    else:\n",
    "        periode = \"AM\" if jam < 12 else \"PM\"\n",
    "        jam_12 = jam % 12\n",
    "        jam_12 = 12 if jam_12 == 0 else jam_12  \n",
    "        return f\"{jam_12}:{menit:02} {periode}\"\n"
   ]
  }
 ],
 "metadata": {
  "kernelspec": {
   "display_name": "Python 3 (ipykernel)",
   "language": "python",
   "name": "python3"
  },
  "language_info": {
   "codemirror_mode": {
    "name": "ipython",
    "version": 3
   },
   "file_extension": ".py",
   "mimetype": "text/x-python",
   "name": "python",
   "nbconvert_exporter": "python",
   "pygments_lexer": "ipython3",
   "version": "3.12.7"
  }
 },
 "nbformat": 4,
 "nbformat_minor": 5
}
