{
 "cells": [
  {
   "cell_type": "code",
   "execution_count": 1,
   "id": "89d36a68-acf1-4e0c-9129-7a5bef3d26e0",
   "metadata": {},
   "outputs": [
    {
     "name": "stdin",
     "output_type": "stream",
     "text": [
      "Masukkan usia anda:  18\n"
     ]
    },
    {
     "name": "stdout",
     "output_type": "stream",
     "text": [
      "Remaja\n"
     ]
    }
   ],
   "source": [
    "usia = int(input(\"Masukkan usia anda: \"))\n",
    "if usia <= 5:\n",
    "    print(\"Balita\")\n",
    "elif usia >= 6 and usia <= 11:\n",
    "    print(\"Kanak-kanak\")\n",
    "elif usia >=12 and usia <= 25:\n",
    "    print(\"Remaja\")\n",
    "elif usia >= 26 and usia <= 45:\n",
    "    print(\"Dewasa\")\n",
    "elif usia > 45:\n",
    "    print(\"Lansia\")"
   ]
  },
  {
   "cell_type": "code",
   "execution_count": 6,
   "id": "1cef563c-8899-4928-a8ef-9e0552957de4",
   "metadata": {},
   "outputs": [
    {
     "name": "stdin",
     "output_type": "stream",
     "text": [
      "Masukkan usia anda:  20.5\n"
     ]
    },
    {
     "name": "stdout",
     "output_type": "stream",
     "text": [
      "Anda salah memasukkan input usia\n"
     ]
    }
   ],
   "source": [
    "inputuser = input(\"Masukkan usia anda: \")\n",
    "try:\n",
    "    usia = int(inputuser)\n",
    "    if usia <= 5:\n",
    "        print(\"Balita\")\n",
    "    elif usia >= 6 and usia <= 11:\n",
    "        print(\"Kanak-kanak\")\n",
    "    elif usia >=12 and usia <= 25:\n",
    "        print(\"Remaja\")\n",
    "    elif usia >= 26 and usia <= 45:\n",
    "        print(\"Dewasa\")\n",
    "    elif usia > 45:\n",
    "        print(\"Lansia\")\n",
    "except:\n",
    "    print(\"Anda salah memasukkan input usia\")"
   ]
  },
  {
   "cell_type": "code",
   "execution_count": 13,
   "id": "877c1131-9ebb-49d4-b4e5-29e79d13ee86",
   "metadata": {},
   "outputs": [
    {
     "name": "stdin",
     "output_type": "stream",
     "text": [
      "Masukkan suhu tubuh:  39\n"
     ]
    },
    {
     "name": "stdout",
     "output_type": "stream",
     "text": [
      "Anda demam\n"
     ]
    }
   ],
   "source": [
    "suhu = input(\"Masukkan suhu tubuh: \")\n",
    "try :\n",
    "    suhu = int(suhu)\n",
    "    if suhu > 38:\n",
    "        print(\"Anda demam\")\n",
    "    elif suhu >= 37.5:\n",
    "        print (\"Tubuh Anda Hangat\")\n",
    "    else: \n",
    "        print (\"Suhu anda Normal\")\n",
    "except:\n",
    "     print(\"Anda salah memasukkan suhu\")"
   ]
  },
  {
   "cell_type": "code",
   "execution_count": 3,
   "id": "f1a2aaa6-46f4-40c8-804a-c3751347ff1a",
   "metadata": {},
   "outputs": [
    {
     "data": {
      "text/plain": [
       "False"
      ]
     },
     "execution_count": 3,
     "metadata": {},
     "output_type": "execute_result"
    }
   ],
   "source": [
    "harga_zx = 130000000\n",
    "harga_mobil_tiggo8 = 350000000\n",
    "harga_zx > harga_mobil_tiggo8"
   ]
  },
  {
   "cell_type": "code",
   "execution_count": 7,
   "id": "a3988263-daa3-4729-b134-f8e16c1df230",
   "metadata": {},
   "outputs": [
    {
     "name": "stdin",
     "output_type": "stream",
     "text": [
      "Masukkan total pembelian:  1200000\n"
     ]
    },
    {
     "name": "stdout",
     "output_type": "stream",
     "text": [
      "Harga setelah diskon: 840000.0\n"
     ]
    }
   ],
   "source": [
    "pembelian = float(input(\"Masukkan total pembelian: \"))\n",
    "\n",
    "if pembelian > 1000000:\n",
    "    diskon = 0.3\n",
    "elif pembelian > 500000:\n",
    "    diskon = 0.2\n",
    "elif pembelian >= 100000:\n",
    "    diskon = 0.15\n",
    "else:\n",
    "    diskon = 0\n",
    "\n",
    "harga_setelah_diskon = pembelian - (pembelian * diskon)\n",
    "\n",
    "print(f\"Harga setelah diskon: {harga_setelah_diskon}\")"
   ]
  },
  {
   "cell_type": "code",
   "execution_count": 15,
   "id": "a605c63e-f2c9-4e6d-8501-c405f5f1033f",
   "metadata": {},
   "outputs": [
    {
     "name": "stdin",
     "output_type": "stream",
     "text": [
      "Masukkan suatu bilangan:  70\n"
     ]
    },
    {
     "name": "stdout",
     "output_type": "stream",
     "text": [
      "Positif\n"
     ]
    }
   ],
   "source": [
    "bilangan = int(input(\"Masukkan suatu bilangan: \"))\n",
    "if bilangan > 0:\n",
    "    print(\"Positif\")\n",
    "elif bilangan < 0:\n",
    "    print(\"Negatif\")\n",
    "elif bilangan == 0:\n",
    "    print(\"Nol\")\n"
   ]
  },
  {
   "cell_type": "code",
   "execution_count": 17,
   "id": "9e65017c-2ae8-4495-b74c-1d7ffcd5023b",
   "metadata": {},
   "outputs": [
    {
     "name": "stdin",
     "output_type": "stream",
     "text": [
      "Masukkan bilangan pertama:  12\n",
      "Masukkan bilangan kedua:  17\n",
      "Masukkan bilangan ketiga:  18\n"
     ]
    },
    {
     "name": "stdout",
     "output_type": "stream",
     "text": [
      "Terbesar:  18\n"
     ]
    }
   ],
   "source": [
    "a = int(input(\"Masukkan bilangan pertama: \"))\n",
    "b = int(input(\"Masukkan bilangan kedua: \"))\n",
    "c = int(input(\"Masukkan bilangan ketiga: \"))\n",
    "\n",
    "if a > b and a > c:\n",
    "    print(\"Terbesar: \", a)\n",
    "elif b > a and b > c:\n",
    "    print(\"Terbesar: \", b)\n",
    "elif c > a and c > b:\n",
    "    print(\"Terbesar: \", c)\n"
   ]
  },
  {
   "cell_type": "code",
   "execution_count": null,
   "id": "082dba22-c68d-450f-a57f-1724db1b42f3",
   "metadata": {},
   "outputs": [],
   "source": []
  }
 ],
 "metadata": {
  "kernelspec": {
   "display_name": "Python [conda env:base] *",
   "language": "python",
   "name": "conda-base-py"
  },
  "language_info": {
   "codemirror_mode": {
    "name": "ipython",
    "version": 3
   },
   "file_extension": ".py",
   "mimetype": "text/x-python",
   "name": "python",
   "nbconvert_exporter": "python",
   "pygments_lexer": "ipython3",
   "version": "3.12.7"
  }
 },
 "nbformat": 4,
 "nbformat_minor": 5
}
