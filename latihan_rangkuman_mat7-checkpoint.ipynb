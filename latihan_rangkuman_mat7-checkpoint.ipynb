{
 "cells": [
  {
   "cell_type": "code",
   "execution_count": 1,
   "id": "14cab434-4e9b-42dc-b41d-9e5aa9821edd",
   "metadata": {},
   "outputs": [
    {
     "ename": "NameError",
     "evalue": "name 'kondisi1' is not defined",
     "output_type": "error",
     "traceback": [
      "\u001b[1;31m---------------------------------------------------------------------------\u001b[0m",
      "\u001b[1;31mNameError\u001b[0m                                 Traceback (most recent call last)",
      "Cell \u001b[1;32mIn[1], line 1\u001b[0m\n\u001b[1;32m----> 1\u001b[0m \u001b[38;5;28;01mif\u001b[39;00m kondisi1:\n\u001b[0;32m      2\u001b[0m     \u001b[38;5;28;01mif\u001b[39;00m kondisi2:\n\u001b[0;32m      3\u001b[0m         S\n",
      "\u001b[1;31mNameError\u001b[0m: name 'kondisi1' is not defined"
     ]
    }
   ],
   "source": [
    "if kondisi1:\n",
    "    if kondisi2:\n",
    "        S\n",
    "        S\n",
    "else:\n",
    "    S\n",
    "    S"
   ]
  },
  {
   "cell_type": "code",
   "execution_count": 1,
   "id": "3da4e940-aa88-4356-9405-82cddf3cbf3f",
   "metadata": {},
   "outputs": [
    {
     "ename": "NameError",
     "evalue": "name 'kondisi1' is not defined",
     "output_type": "error",
     "traceback": [
      "\u001b[1;31m---------------------------------------------------------------------------\u001b[0m",
      "\u001b[1;31mNameError\u001b[0m                                 Traceback (most recent call last)",
      "Cell \u001b[1;32mIn[1], line 1\u001b[0m\n\u001b[1;32m----> 1\u001b[0m \u001b[38;5;28;01mif\u001b[39;00m kondisi1:\n\u001b[0;32m      2\u001b[0m     \u001b[38;5;28;01mif\u001b[39;00m kondisi2:\n\u001b[0;32m      3\u001b[0m         S\n",
      "\u001b[1;31mNameError\u001b[0m: name 'kondisi1' is not defined"
     ]
    }
   ],
   "source": [
    "if kondisi1:\n",
    "    if kondisi2:\n",
    "        S\n",
    "        S\n",
    "    else:\n",
    "        S\n",
    "        S\n",
    "else:\n",
    "    S\n",
    "    S\n"
   ]
  },
  {
   "cell_type": "code",
   "execution_count": 1,
   "id": "08cfe53a-05ac-41c8-a879-68565793d2e1",
   "metadata": {},
   "outputs": [
    {
     "ename": "NameError",
     "evalue": "name 'kondisi1' is not defined",
     "output_type": "error",
     "traceback": [
      "\u001b[1;31m---------------------------------------------------------------------------\u001b[0m",
      "\u001b[1;31mNameError\u001b[0m                                 Traceback (most recent call last)",
      "Cell \u001b[1;32mIn[1], line 1\u001b[0m\n\u001b[1;32m----> 1\u001b[0m \u001b[38;5;28;01mif\u001b[39;00m kondisi1:\n\u001b[0;32m      2\u001b[0m     \u001b[38;5;28;01mif\u001b[39;00m kondisi2:\n\u001b[0;32m      3\u001b[0m         S\n",
      "\u001b[1;31mNameError\u001b[0m: name 'kondisi1' is not defined"
     ]
    }
   ],
   "source": [
    "if kondisi1:\n",
    "    S\n",
    "    if kondisi2:\n",
    "        S\n",
    "        S\n",
    "    else:\n",
    "        S\n",
    "        S\n",
    "else:\n",
    "    if kondisi3:\n",
    "        S\n",
    "        S\n",
    "    else:\n",
    "        S\n",
    "        S\n",
    "S"
   ]
  },
  {
   "cell_type": "code",
   "execution_count": 3,
   "id": "82563dbb-1c22-46d8-9a5a-daeffa3cc152",
   "metadata": {},
   "outputs": [
    {
     "name": "stdout",
     "output_type": "stream",
     "text": [
      "0\n",
      "1\n",
      "2\n",
      "3\n",
      "4\n",
      "5\n",
      "6\n",
      "7\n",
      "8\n",
      "9\n",
      "10\n"
     ]
    }
   ],
   "source": [
    "for i in range(1000):\n",
    "    print(i)\n",
    "    if i==10:\n",
    "        break"
   ]
  },
  {
   "cell_type": "code",
   "execution_count": 14,
   "id": "ce01acc7-301c-406a-906d-cd0a1b8cd7e1",
   "metadata": {},
   "outputs": [
    {
     "name": "stdin",
     "output_type": "stream",
     "text": [
      "Masukkan n = 8\n"
     ]
    },
    {
     "name": "stdout",
     "output_type": "stream",
     "text": [
      "1 \n",
      "2 2 \n",
      "3 3 3 \n",
      "4 4 4 4 \n",
      "5 5 5 5 5 \n",
      "6 6 6 6 6 6 \n",
      "7 7 7 7 7 7 7 \n",
      "8 8 8 8 8 8 8 8 \n"
     ]
    }
   ],
   "source": [
    "n=int(input(\"Masukkan n =\"))\n",
    "for i in range(1,n+1):\n",
    "    for j in range(1,i+1):\n",
    "        print(i,\"\",end='')\n",
    "    print()"
   ]
  },
  {
   "cell_type": "code",
   "execution_count": 27,
   "id": "28b8215a-8070-48cf-a344-77b6b797c105",
   "metadata": {},
   "outputs": [
    {
     "name": "stdin",
     "output_type": "stream",
     "text": [
      "Masukkan n =  8\n"
     ]
    },
    {
     "name": "stdout",
     "output_type": "stream",
     "text": [
      "1  2  3  4  5  6  7  8  \n",
      "8  7  6  5  4  3  \n",
      "3  4  5  6  7  8  \n",
      "8  7  6  5  \n",
      "5  6  7  8  \n",
      "8  7  \n",
      "7  8  \n",
      "\n"
     ]
    }
   ],
   "source": [
    "n=int(input(\"Masukkan n = \"))\n",
    "for i in range(1,n+1):\n",
    "    if i%2==1:\n",
    "         for j in range(1,n+1):\n",
    "             print(j,\" \",end='')\n",
    "    else:\n",
    "        for j in range(n,0,-1):\n",
    "            print(j,\" \",end='')\n",
    "    print()"
   ]
  },
  {
   "cell_type": "code",
   "execution_count": 29,
   "id": "00362a89-2cda-4081-bc9b-048d3a2bcd62",
   "metadata": {},
   "outputs": [
    {
     "name": "stdin",
     "output_type": "stream",
     "text": [
      "Masukkan n =  8\n"
     ]
    },
    {
     "name": "stdout",
     "output_type": "stream",
     "text": [
      "XOXOXOXO\n",
      "XOXOXOX\n",
      "XOXOXO\n",
      "XOXOX\n",
      "XOXO\n",
      "XOX\n",
      "XO\n",
      "X\n",
      "\n"
     ]
    }
   ],
   "source": [
    "n=int(input(\"Masukkan n = \"))\n",
    "for i in range(0,n+1):\n",
    "    for j in range(1,n-i+1):\n",
    "        print(\"X\",end='') if j%2==1 else print(\"O\",end='')\n",
    "    print()"
   ]
  },
  {
   "cell_type": "code",
   "execution_count": 32,
   "id": "2976666c-65b7-4be3-997d-e8460d2d9423",
   "metadata": {},
   "outputs": [
    {
     "name": "stdin",
     "output_type": "stream",
     "text": [
      "Masukkan jumlah : 8\n"
     ]
    },
    {
     "name": "stdout",
     "output_type": "stream",
     "text": [
      "        \n",
      "        * \n",
      "       *  * \n",
      "      *  *  * \n",
      "     *  *  *  * \n",
      "    *  *  *  *  * \n",
      "   *  *  *  *  *  * \n",
      "  *  *  *  *  *  *  * \n",
      " *  *  *  *  *  *  *  * \n",
      "\n"
     ]
    }
   ],
   "source": [
    "hasil = \"\"\n",
    "x = int(input(\"Masukkan jumlah :\"))\n",
    "bar = x\n",
    "# Looping Baris\n",
    "while bar >= 0:\n",
    " # Looping Kolom Spasi Kosong\n",
    "    kol = bar\n",
    "    while kol > 0:\n",
    "        hasil += \" \"\n",
    "        kol-= 1\n",
    " # Looping Kolom Bintang\n",
    "    kanan = 1\n",
    "    while kanan < (x- (bar-1)):\n",
    "        hasil += \" * \"\n",
    "        kanan += 1\n",
    "    hasil = hasil + \"\\n\"\n",
    "    bar-= 1\n",
    "print (hasil)"
   ]
  },
  {
   "cell_type": "code",
   "execution_count": null,
   "id": "395c0b9f-da43-47ed-b230-6d8f1875386c",
   "metadata": {},
   "outputs": [],
   "source": []
  }
 ],
 "metadata": {
  "kernelspec": {
   "display_name": "Python [conda env:base] *",
   "language": "python",
   "name": "conda-base-py"
  },
  "language_info": {
   "codemirror_mode": {
    "name": "ipython",
    "version": 3
   },
   "file_extension": ".py",
   "mimetype": "text/x-python",
   "name": "python",
   "nbconvert_exporter": "python",
   "pygments_lexer": "ipython3",
   "version": "3.12.7"
  }
 },
 "nbformat": 4,
 "nbformat_minor": 5
}
