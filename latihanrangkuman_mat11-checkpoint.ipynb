{
 "cells": [
  {
   "cell_type": "code",
   "execution_count": null,
   "id": "8c8c7dff-6eb0-4c44-8e37-0e6e1b68693a",
   "metadata": {},
   "outputs": [],
   "source": [
    "kamus = {'one': 'uno', 'two': 'dos', 'three': 'tres'}"
   ]
  },
  {
   "cell_type": "code",
   "execution_count": 2,
   "id": "17c54558-e515-4d61-a1f1-9e6d6ea54a59",
   "metadata": {},
   "outputs": [
    {
     "name": "stdout",
     "output_type": "stream",
     "text": [
      "{'kunci': 'nilai'}\n"
     ]
    }
   ],
   "source": [
    "my_dict = dict()  # Dictionary kosong\n",
    "my_dict['kunci'] = 'nilai'\n",
    "print(my_dict)"
   ]
  },
  {
   "cell_type": "code",
   "execution_count": 10,
   "id": "542ec054-e7d7-4421-b652-ad2c8c07346a",
   "metadata": {},
   "outputs": [
    {
     "data": {
      "text/plain": [
       "True"
      ]
     },
     "execution_count": 10,
     "metadata": {},
     "output_type": "execute_result"
    }
   ],
   "source": [
    "angka = {'one': 'uno', 'two': 'dos'}\n",
    "# print(angka['two'])  \n",
    "# print(angka['four'])  \n",
    "# 'dos' in angka     # False, karena hanya mengecek key, bukan value\n",
    "'one' in angka     # True"
   ]
  },
  {
   "cell_type": "code",
   "execution_count": 12,
   "id": "7df83f19-1cc0-40a5-89f8-036dc44cd94a",
   "metadata": {},
   "outputs": [
    {
     "name": "stdout",
     "output_type": "stream",
     "text": [
      "{'b': 1, 'r': 2, 'o': 2, 'n': 1, 't': 1, 's': 2, 'a': 1, 'u': 2}\n"
     ]
    }
   ],
   "source": [
    "word = 'brontosaurus'\n",
    "d = dict()\n",
    "for c in word:\n",
    "    if c not in d:\n",
    "        d[c] = 1\n",
    "    else:\n",
    "        d[c] += 1\n",
    "print(d)"
   ]
  },
  {
   "cell_type": "code",
   "execution_count": 14,
   "id": "d7e464e7-6c25-4694-8e72-213d4d3738df",
   "metadata": {},
   "outputs": [
    {
     "name": "stdout",
     "output_type": "stream",
     "text": [
      "{'b': 1, 'r': 2, 'o': 2, 'n': 1, 't': 1, 's': 2, 'a': 1, 'u': 2}\n"
     ]
    }
   ],
   "source": [
    "word = 'brontosaurus'\n",
    "d = dict()\n",
    "for c in word:\n",
    "    d[c] = d.get(c, 0) + 1\n",
    "print(d)"
   ]
  },
  {
   "cell_type": "code",
   "execution_count": 2,
   "id": "a7482715-b9c5-4789-9549-429c6feba050",
   "metadata": {},
   "outputs": [
    {
     "name": "stdin",
     "output_type": "stream",
     "text": [
      "Enter the file name:  romeo-full.txt\n"
     ]
    },
    {
     "name": "stdout",
     "output_type": "stream",
     "text": [
      "{'Romeo': 4, 'and': 22, 'Juliet': 2, 'Act': 1, '2,': 1, 'Scene': 1, '2': 1, 'SCENE': 1, 'II.': 1, \"Capulet's\": 1, 'orchard.': 1, 'Enter': 1, 'ROMEO': 27, 'He': 2, 'jests': 1, 'at': 7, 'scars': 1, 'that': 23, 'never': 2, 'felt': 1, 'a': 22, 'wound.': 1, 'JULIET': 28, 'appears': 1, 'above': 6, 'window': 2, 'But,': 1, 'soft!': 1, 'what': 6, 'light': 3, 'through': 2, 'yonder': 2, 'breaks?': 1, 'It': 4, 'is': 21, 'the': 30, 'east,': 1, 'sun.': 1, 'Arise,': 1, 'fair': 4, 'sun,': 1, 'kill': 2, 'envious': 1, 'moon,': 3, 'Who': 2, 'already': 1, 'sick': 2, 'pale': 1, 'with': 6, 'grief,': 1, 'That': 6, 'thou': 29, 'her': 12, 'maid': 1, 'art': 5, 'far': 2, 'more': 8, 'than': 3, 'she:': 1, 'Be': 1, 'not': 17, 'maid,': 1, 'since': 1, 'she': 6, 'envious;': 1, 'Her': 2, 'vestal': 1, 'livery': 1, 'but': 13, 'green': 1, 'And': 20, 'none': 1, 'fools': 1, 'do': 6, 'wear': 1, 'it;': 1, 'cast': 1, 'it': 12, 'off.': 1, 'my': 22, 'lady,': 1, 'O,': 8, 'love!': 1, 'knew': 1, 'were!': 1, 'She': 2, 'speaks': 1, 'yet': 7, 'says': 1, 'nothing:': 1, 'of': 18, 'that?': 1, 'eye': 2, 'discourses;': 1, 'I': 60, 'will': 8, 'answer': 1, 'it.': 2, 'am': 6, 'too': 6, 'bold,': 1, \"'tis\": 2, 'to': 31, 'me': 11, 'speaks:': 2, 'Two': 1, 'fairest': 1, 'stars': 1, 'in': 12, 'all': 5, 'heaven,': 1, 'Having': 1, 'some': 3, 'business,': 1, 'entreat': 1, 'eyes': 4, 'To': 3, 'twinkle': 1, 'their': 6, 'spheres': 1, 'till': 4, 'they': 5, 'return.': 1, 'What': 5, 'if': 7, 'were': 8, 'there,': 2, 'head?': 1, 'The': 4, 'brightness': 1, 'cheek': 3, 'would': 13, 'shame': 1, 'those': 2, 'stars,': 1, 'As': 4, 'daylight': 1, 'doth': 2, 'lamp;': 1, 'heaven': 2, 'Would': 2, 'airy': 2, 'region': 1, 'stream': 1, 'so': 5, 'bright': 2, 'birds': 1, 'sing': 1, 'think': 2, 'night.': 1, 'See,': 1, 'how': 3, 'leans': 1, 'upon': 5, 'hand!': 1, 'glove': 1, 'hand,': 3, 'might': 1, 'touch': 1, 'cheek!': 1, 'Ay': 1, 'me!': 1, 'speak': 4, 'again,': 2, 'angel!': 1, 'for': 10, 'glorious': 1, 'this': 6, 'night,': 5, 'being': 1, \"o'er\": 1, 'head': 1, 'winged': 1, 'messenger': 1, 'Unto': 1, 'white-upturned': 1, 'wondering': 1, 'Of': 2, 'mortals': 1, 'fall': 1, 'back': 3, 'gaze': 1, 'on': 4, 'him': 2, 'When': 1, 'he': 3, 'bestrides': 1, 'lazy-pacing': 1, 'clouds': 1, 'sails': 1, 'bosom': 1, 'air.': 1, 'O': 3, 'Romeo,': 5, 'Romeo!': 2, 'wherefore': 1, 'Romeo?': 1, 'Deny': 1, 'thy': 19, 'father': 1, 'refuse': 1, 'name;': 1, 'Or,': 2, 'wilt': 5, 'not,': 1, 'be': 13, 'sworn': 1, 'love,': 9, \"I'll\": 8, 'no': 6, 'longer': 1, 'Capulet.': 1, '[Aside]': 1, 'Shall': 2, 'hear': 2, 'more,': 1, 'or': 1, 'shall': 4, 'this?': 1, \"'Tis\": 2, 'name': 4, 'enemy;': 1, 'Thou': 3, 'thyself,': 1, 'though': 1, 'Montague.': 1, \"What's\": 2, 'Montague?': 2, 'nor': 4, 'foot,': 1, 'Nor': 1, 'arm,': 1, 'face,': 2, 'any': 4, 'other': 4, 'part': 2, 'Belonging': 1, 'man.': 1, 'name!': 1, 'name?': 1, 'which': 5, 'we': 2, 'call': 2, 'rose': 1, 'By': 6, 'smell': 1, 'as': 8, 'sweet;': 1, 'So': 5, 'would,': 1, \"call'd,\": 1, 'Retain': 1, 'dear': 6, 'perfection': 1, 'owes': 1, 'Without': 1, 'title.': 1, 'doff': 1, 'name,': 2, 'thee': 15, 'Take': 1, 'myself.': 1, 'take': 2, 'word:': 2, 'Call': 1, 'new': 1, 'baptized;': 1, 'Henceforth': 1, 'Romeo.': 1, 'man': 1, 'thus': 1, \"bescreen'd\": 1, 'night': 5, 'stumblest': 1, 'counsel?': 1, 'know': 3, 'tell': 2, 'who': 3, 'am:': 1, 'My': 7, 'saint,': 2, 'hateful': 1, 'myself,': 1, 'Because': 1, 'an': 2, 'enemy': 1, 'thee;': 1, 'Had': 1, 'written,': 1, 'tear': 2, 'word.': 1, 'ears': 1, 'have': 11, 'drunk': 1, 'hundred': 1, 'words': 1, \"tongue's\": 1, 'utterance,': 1, 'sound:': 1, 'Art': 1, 'Neither,': 1, 'either': 1, 'dislike.': 1, 'How': 2, 'camest': 1, 'hither,': 1, 'me,': 4, 'wherefore?': 1, 'orchard': 1, 'walls': 1, 'are': 3, 'high': 1, 'hard': 1, 'climb,': 1, 'place': 1, 'death,': 1, 'considering': 1, 'art,': 1, 'If': 5, 'kinsmen': 2, 'find': 2, 'here.': 2, 'With': 2, \"love's\": 3, 'wings': 1, 'did': 3, \"o'er-perch\": 1, 'these': 2, 'walls;': 1, 'For': 2, 'stony': 1, 'limits': 1, 'cannot': 1, 'hold': 1, 'love': 10, 'out,': 1, 'can': 2, 'dares': 1, 'attempt;': 1, 'Therefore': 1, 'let': 2, 'me.': 1, 'see': 1, 'thee,': 4, 'murder': 1, 'thee.': 2, 'Alack,': 1, 'there': 1, 'lies': 1, 'peril': 1, 'thine': 2, 'Than': 3, 'twenty': 2, 'swords:': 1, 'look': 1, 'sweet,': 1, 'proof': 1, 'against': 1, 'enmity.': 1, 'world': 1, 'saw': 1, \"night's\": 1, 'cloak': 1, 'hide': 1, 'from': 4, 'sight;': 1, 'them': 1, 'here:': 1, 'life': 1, 'better': 1, 'ended': 1, 'by': 6, 'hate,': 1, 'death': 1, 'prorogued,': 1, 'wanting': 1, 'love.': 1, 'whose': 1, 'direction': 1, \"found'st\": 1, 'out': 1, 'place?': 1, 'first': 1, 'prompt': 1, 'inquire;': 1, 'lent': 2, 'counsel': 1, 'eyes.': 1, 'pilot;': 1, 'yet,': 1, 'wert': 1, 'vast': 1, 'shore': 1, \"wash'd\": 1, 'farthest': 1, 'sea,': 2, 'adventure': 1, 'such': 2, 'merchandise.': 1, \"know'st\": 1, 'mask': 1, 'Else': 2, 'maiden': 1, 'blush': 1, 'bepaint': 1, 'hast': 1, 'heard': 1, 'to-night': 1, 'Fain': 1, 'dwell': 2, 'form,': 1, 'fain,': 1, 'fain': 1, 'deny': 1, 'spoke:': 1, 'farewell': 1, 'compliment!': 1, 'Dost': 1, 'me?': 1, 'say': 4, \"'Ay,'\": 1, \"swear'st,\": 1, 'mayst': 2, 'prove': 4, 'false;': 1, \"lovers'\": 2, 'perjuries': 1, 'Then': 1, 'say,': 1, 'Jove': 1, 'laughs.': 1, 'gentle': 1, 'dost': 1, 'pronounce': 1, 'faithfully:': 1, 'Or': 1, \"think'st\": 1, 'quickly': 1, 'won,': 1, 'frown': 1, 'perverse': 1, 'nay,': 1, 'woo;': 1, 'else,': 1, 'world.': 2, 'In': 1, 'truth,': 1, 'Montague,': 2, 'fond,': 1, 'therefore': 2, \"'havior\": 1, 'light:': 1, 'But': 4, 'trust': 1, 'gentleman,': 1, 'true': 2, 'cunning': 1, 'strange.': 1, 'should': 2, 'been': 1, 'strange,': 1, 'must': 1, 'confess,': 1, \"overheard'st,\": 1, 'ere': 1, 'was': 1, 'ware,': 1, 'passion:': 1, 'pardon': 1, 'impute': 1, 'yielding': 1, 'Which': 2, 'dark': 1, 'hath': 1, 'discovered.': 1, 'Lady,': 1, 'blessed': 2, 'moon': 1, 'swear': 5, 'tips': 1, 'silver': 1, 'fruit-tree': 1, 'tops--': 1, 'inconstant': 1, 'monthly': 1, 'changes': 1, 'circled': 1, 'orb,': 1, 'Lest': 1, 'likewise': 1, 'variable.': 1, 'by?': 1, 'Do': 1, 'all;': 1, 'wilt,': 1, 'gracious': 1, 'self,': 1, 'god': 1, 'idolatry,': 1, 'believe': 1, \"heart's\": 1, 'love--': 1, 'Well,': 1, 'swear:': 1, 'although': 1, 'joy': 2, 'contract': 1, 'to-night:': 1, 'rash,': 1, 'unadvised,': 1, 'sudden;': 1, 'Too': 2, 'like': 1, 'lightning,': 1, 'cease': 2, 'Ere': 1, 'one': 2, \"'It\": 1, \"lightens.'\": 1, 'Sweet,': 2, 'good': 7, 'night!': 5, 'This': 1, 'bud': 1, \"summer's\": 1, 'ripening': 1, 'breath,': 1, 'May': 1, 'beauteous': 1, 'flower': 1, 'when': 1, 'next': 1, 'meet.': 1, 'Good': 2, 'sweet': 3, 'repose': 1, 'rest': 1, 'Come': 1, 'heart': 1, 'within': 2, 'breast!': 2, 'leave': 2, 'unsatisfied?': 1, 'satisfaction': 1, 'canst': 1, 'to-night?': 1, 'exchange': 1, 'faithful': 1, 'vow': 1, 'mine.': 1, 'gave': 1, 'mine': 1, 'before': 1, 'didst': 1, 'request': 1, 'it:': 1, 'give': 3, 'again.': 3, 'Wouldst': 1, 'withdraw': 1, 'it?': 1, 'purpose,': 1, 'love?': 1, 'frank,': 1, 'wish': 1, 'thing': 1, 'have:': 1, 'bounty': 1, 'boundless': 1, 'deep;': 1, 'have,': 1, 'both': 1, 'infinite.': 1, 'Nurse': 3, 'calls': 2, 'noise': 1, 'within;': 1, 'adieu!': 1, 'Anon,': 1, 'nurse!': 1, 'Sweet': 1, 'true.': 1, 'Stay': 1, 'little,': 1, 'come': 2, 'Exit,': 2, 'blessed,': 1, 'afeard.': 1, 'Being': 1, 'dream,': 1, 'flattering-sweet': 1, 'substantial.': 1, 'Re-enter': 2, 'JULIET,': 2, 'Three': 1, 'words,': 1, 'indeed.': 1, 'bent': 1, 'honourable,': 1, 'Thy': 1, 'purpose': 1, 'marriage,': 1, 'send': 2, 'word': 1, 'to-morrow,': 1, 'procure': 1, 'Where': 1, 'time': 1, 'perform': 1, 'rite;': 1, 'fortunes': 1, 'foot': 1, 'lay': 1, 'follow': 1, 'lord': 1, 'throughout': 1, '[Within]': 2, 'Madam!': 2, 'come,': 1, 'anon.--But': 1, \"mean'st\": 1, 'well,': 1, 'beseech': 1, 'thee--': 1, 'by,': 1, 'come:--': 1, 'suit,': 1, 'grief:': 1, 'To-morrow': 1, 'send.': 1, 'thrive': 1, 'soul--': 1, 'A': 2, 'thousand': 2, 'times': 2, 'worse,': 1, 'want': 1, 'light.': 1, 'Love': 1, 'goes': 1, 'toward': 2, 'schoolboys': 1, 'books,': 1, 'school': 1, 'heavy': 1, 'looks.': 1, 'Retiring': 1, 'Hist!': 1, 'hist!': 1, \"falconer's\": 1, 'voice,': 1, 'lure': 1, 'tassel-gentle': 1, 'again!': 1, 'Bondage': 1, 'hoarse,': 1, 'may': 1, 'aloud;': 1, 'cave': 1, 'where': 1, 'Echo': 1, 'lies,': 1, 'make': 1, 'tongue': 1, 'hoarse': 1, 'mine,': 1, 'repetition': 1, \"Romeo's\": 1, 'name.': 1, 'soul': 1, 'name:': 1, 'silver-sweet': 1, 'sound': 1, 'tongues': 1, 'Like': 2, 'softest': 1, 'music': 1, 'attending': 1, 'ears!': 1, 'dear?': 1, 'At': 2, \"o'clock\": 1, 'to-morrow': 1, 'thee?': 1, 'hour': 1, 'nine.': 1, 'fail:': 1, 'years': 1, 'then.': 1, 'forgot': 1, 'why': 1, 'back.': 1, 'Let': 1, 'stand': 2, 'here': 1, 'remember': 1, 'forget,': 2, 'still': 3, 'Remembering': 1, 'company.': 1, 'stay,': 1, 'Forgetting': 1, 'home': 1, 'this.': 1, 'almost': 1, 'morning;': 1, 'gone:': 1, 'further': 1, \"wanton's\": 1, 'bird;': 1, 'lets': 1, 'hop': 1, 'little': 1, 'poor': 1, 'prisoner': 1, 'his': 2, 'twisted': 1, 'gyves,': 1, 'silk': 1, 'thread': 1, 'plucks': 1, 'loving-jealous': 1, 'liberty.': 1, 'bird.': 1, 'I:': 1, 'Yet': 1, 'much': 1, 'cherishing.': 1, 'parting': 1, 'sorrow,': 1, 'morrow.': 1, 'Exit': 2, 'Sleep': 1, 'eyes,': 1, 'peace': 1, 'sleep': 1, 'peace,': 1, 'rest!': 1, 'Hence': 1, 'ghostly': 1, \"father's\": 1, 'cell,': 1, 'His': 1, 'help': 1, 'crave,': 1, 'hap': 1, 'tell.': 1}\n"
     ]
    }
   ],
   "source": [
    "fname = input('Enter the file name: ')\n",
    "try:\n",
    "    fhand = open(fname)\n",
    "except:\n",
    "    print('File tidak bisa dibuka:', fname)\n",
    "    exit()\n",
    "\n",
    "counts = dict()\n",
    "for line in fhand:\n",
    "    words = line.split()\n",
    "    for word in words:\n",
    "        counts[word] = counts.get(word, 0) + 1\n",
    "\n",
    "print(counts)"
   ]
  },
  {
   "cell_type": "code",
   "execution_count": 4,
   "id": "ae3734ea-150d-4fa3-a3d5-be79f3717019",
   "metadata": {},
   "outputs": [
    {
     "name": "stdout",
     "output_type": "stream",
     "text": [
      "jan 100\n",
      "annie 42\n",
      "chuck 1\n"
     ]
    }
   ],
   "source": [
    "counts = {'jan': 100, 'annie': 42, 'chuck': 1}\n",
    "for key in counts:\n",
    "    print(key, counts[key])"
   ]
  },
  {
   "cell_type": "code",
   "execution_count": 6,
   "id": "7a6a70fa-f646-4074-b3fe-8ac8b3b862a9",
   "metadata": {},
   "outputs": [
    {
     "name": "stdout",
     "output_type": "stream",
     "text": [
      "jan 100\n",
      "annie 42\n"
     ]
    }
   ],
   "source": [
    "counts = {'jan': 100, 'annie': 42, 'chuck': 1}\n",
    "for key in counts:\n",
    "    if counts[key] > 10:\n",
    "        print(key, counts[key])"
   ]
  },
  {
   "cell_type": "code",
   "execution_count": 8,
   "id": "d2e28882-d584-40e9-8445-55dd91ea247f",
   "metadata": {},
   "outputs": [
    {
     "name": "stdout",
     "output_type": "stream",
     "text": [
      "annie 42\n",
      "chuck 1\n",
      "jan 100\n"
     ]
    }
   ],
   "source": [
    "counts = {'jan': 100, 'annie': 42, 'chuck': 1}\n",
    "keys = list(counts.keys())\n",
    "keys.sort()\n",
    "for key in keys:\n",
    "    print(key, counts[key])"
   ]
  },
  {
   "cell_type": "code",
   "execution_count": 10,
   "id": "a6628b52-db76-4bd6-9df8-b83e0a5a1812",
   "metadata": {},
   "outputs": [
    {
     "name": "stdin",
     "output_type": "stream",
     "text": [
      "Enter the file name:  romeo-full.txt\n"
     ]
    },
    {
     "name": "stdout",
     "output_type": "stream",
     "text": [
      "{'romeo': 40, 'and': 42, 'juliet': 32, 'act': 1, '2': 2, 'scene': 2, 'ii': 1, 'capulets': 1, 'orchard': 2, 'enter': 1, 'he': 5, 'jests': 1, 'at': 9, 'scars': 1, 'that': 30, 'never': 2, 'felt': 1, 'a': 24, 'wound': 1, 'appears': 1, 'above': 6, 'window': 2, 'but': 18, 'soft': 1, 'what': 11, 'light': 5, 'through': 2, 'yonder': 2, 'breaks': 1, 'it': 22, 'is': 21, 'the': 34, 'east': 1, 'sun': 2, 'arise': 1, 'fair': 4, 'kill': 2, 'envious': 2, 'moon': 4, 'who': 5, 'already': 1, 'sick': 2, 'pale': 1, 'with': 8, 'grief': 2, 'thou': 32, 'her': 14, 'maid': 2, 'art': 7, 'far': 2, 'more': 9, 'than': 6, 'she': 9, 'be': 14, 'not': 18, 'since': 1, 'vestal': 1, 'livery': 1, 'green': 1, 'none': 1, 'fools': 1, 'do': 7, 'wear': 1, 'cast': 1, 'off': 1, 'my': 29, 'lady': 2, 'o': 11, 'love': 24, 'knew': 1, 'were': 9, 'speaks': 3, 'yet': 9, 'says': 1, 'nothing': 1, 'of': 20, 'eye': 2, 'discourses': 1, 'i': 61, 'will': 8, 'answer': 1, 'am': 7, 'too': 8, 'bold': 1, 'tis': 4, 'to': 34, 'me': 18, 'two': 1, 'fairest': 1, 'stars': 2, 'in': 13, 'all': 6, 'heaven': 3, 'having': 1, 'some': 3, 'business': 1, 'entreat': 1, 'eyes': 6, 'twinkle': 1, 'their': 6, 'spheres': 1, 'till': 4, 'they': 5, 'return': 1, 'if': 12, 'there': 3, 'head': 2, 'brightness': 1, 'cheek': 4, 'would': 16, 'shame': 1, 'those': 2, 'as': 12, 'daylight': 1, 'doth': 2, 'lamp': 1, 'airy': 2, 'region': 1, 'stream': 1, 'so': 10, 'bright': 2, 'birds': 1, 'sing': 1, 'think': 2, 'night': 16, 'see': 2, 'how': 5, 'leans': 1, 'upon': 5, 'hand': 4, 'glove': 1, 'might': 1, 'touch': 1, 'ay': 2, 'speak': 4, 'again': 6, 'angel': 1, 'for': 12, 'glorious': 1, 'this': 9, 'being': 2, 'oer': 1, 'winged': 1, 'messenger': 1, 'unto': 1, 'whiteupturned': 1, 'wondering': 1, 'mortals': 1, 'fall': 1, 'back': 4, 'gaze': 1, 'on': 4, 'him': 2, 'when': 2, 'bestrides': 1, 'lazypacing': 1, 'clouds': 1, 'sails': 1, 'bosom': 1, 'air': 1, 'wherefore': 2, 'deny': 2, 'thy': 20, 'father': 1, 'refuse': 1, 'name': 11, 'or': 4, 'wilt': 6, 'sworn': 1, 'ill': 8, 'no': 6, 'longer': 1, 'capulet': 1, 'aside': 1, 'shall': 6, 'hear': 2, 'enemy': 2, 'thyself': 1, 'though': 1, 'montague': 5, 'whats': 2, 'nor': 5, 'foot': 2, 'arm': 1, 'face': 2, 'any': 4, 'other': 4, 'part': 2, 'belonging': 1, 'man': 2, 'which': 7, 'we': 2, 'call': 3, 'rose': 1, 'by': 14, 'smell': 1, 'sweet': 8, 'calld': 1, 'retain': 1, 'dear': 7, 'perfection': 1, 'owes': 1, 'without': 1, 'title': 1, 'doff': 1, 'thee': 24, 'take': 3, 'myself': 2, 'word': 4, 'new': 1, 'baptized': 1, 'henceforth': 1, 'thus': 1, 'bescreend': 1, 'stumblest': 1, 'counsel': 2, 'know': 3, 'tell': 3, 'saint': 2, 'hateful': 1, 'because': 1, 'an': 2, 'had': 1, 'written': 1, 'tear': 2, 'ears': 2, 'have': 13, 'drunk': 1, 'hundred': 1, 'words': 2, 'tongues': 2, 'utterance': 1, 'sound': 2, 'neither': 1, 'either': 1, 'dislike': 1, 'camest': 1, 'hither': 1, 'walls': 2, 'are': 3, 'high': 1, 'hard': 1, 'climb': 1, 'place': 2, 'death': 2, 'considering': 1, 'kinsmen': 2, 'find': 2, 'here': 4, 'loves': 3, 'wings': 1, 'did': 3, 'oerperch': 1, 'these': 2, 'stony': 1, 'limits': 1, 'cannot': 1, 'hold': 1, 'out': 2, 'can': 2, 'dares': 1, 'attempt': 1, 'therefore': 3, 'let': 3, 'murder': 1, 'alack': 1, 'lies': 2, 'peril': 1, 'thine': 2, 'twenty': 2, 'swords': 1, 'look': 1, 'proof': 1, 'against': 1, 'enmity': 1, 'world': 3, 'saw': 1, 'nights': 1, 'cloak': 1, 'hide': 1, 'from': 4, 'sight': 1, 'them': 1, 'life': 1, 'better': 1, 'ended': 1, 'hate': 1, 'prorogued': 1, 'wanting': 1, 'whose': 1, 'direction': 1, 'foundst': 1, 'first': 1, 'prompt': 1, 'inquire': 1, 'lent': 2, 'pilot': 1, 'wert': 1, 'vast': 1, 'shore': 1, 'washd': 1, 'farthest': 1, 'sea': 2, 'adventure': 1, 'such': 2, 'merchandise': 1, 'knowst': 1, 'mask': 1, 'else': 3, 'maiden': 1, 'blush': 1, 'bepaint': 1, 'hast': 1, 'heard': 1, 'tonight': 3, 'fain': 3, 'dwell': 2, 'form': 1, 'spoke': 1, 'farewell': 1, 'compliment': 1, 'dost': 2, 'say': 5, 'swearst': 1, 'mayst': 2, 'prove': 4, 'false': 1, 'lovers': 2, 'perjuries': 1, 'then': 2, 'jove': 1, 'laughs': 1, 'gentle': 1, 'pronounce': 1, 'faithfully': 1, 'thinkst': 1, 'quickly': 1, 'won': 1, 'frown': 1, 'perverse': 1, 'nay': 1, 'woo': 1, 'truth': 1, 'fond': 1, 'havior': 1, 'trust': 1, 'gentleman': 1, 'true': 3, 'cunning': 1, 'strange': 2, 'should': 2, 'been': 1, 'must': 1, 'confess': 1, 'overheardst': 1, 'ere': 2, 'was': 1, 'ware': 1, 'passion': 1, 'pardon': 1, 'impute': 1, 'yielding': 1, 'dark': 1, 'hath': 1, 'discovered': 1, 'blessed': 3, 'swear': 6, 'tips': 1, 'silver': 1, 'fruittree': 1, 'tops': 1, 'inconstant': 1, 'monthly': 1, 'changes': 1, 'circled': 1, 'orb': 1, 'lest': 1, 'likewise': 1, 'variable': 1, 'gracious': 1, 'self': 1, 'god': 1, 'idolatry': 1, 'believe': 1, 'hearts': 1, 'well': 2, 'although': 1, 'joy': 2, 'contract': 1, 'rash': 1, 'unadvised': 1, 'sudden': 1, 'like': 3, 'lightning': 1, 'cease': 2, 'one': 2, 'lightens': 1, 'good': 9, 'bud': 1, 'summers': 1, 'ripening': 1, 'breath': 1, 'may': 2, 'beauteous': 1, 'flower': 1, 'next': 1, 'meet': 1, 'repose': 1, 'rest': 2, 'come': 5, 'heart': 1, 'within': 5, 'breast': 2, 'leave': 2, 'unsatisfied': 1, 'satisfaction': 1, 'canst': 1, 'exchange': 1, 'faithful': 1, 'vow': 1, 'mine': 3, 'gave': 1, 'before': 1, 'didst': 1, 'request': 1, 'give': 3, 'wouldst': 1, 'withdraw': 1, 'purpose': 2, 'frank': 1, 'wish': 1, 'thing': 1, 'bounty': 1, 'boundless': 1, 'deep': 1, 'both': 1, 'infinite': 1, 'nurse': 4, 'calls': 2, 'noise': 1, 'adieu': 1, 'anon': 1, 'stay': 2, 'little': 2, 'exit': 4, 'afeard': 1, 'dream': 1, 'flatteringsweet': 1, 'substantial': 1, 'reenter': 2, 'three': 1, 'indeed': 1, 'bent': 1, 'honourable': 1, 'marriage': 1, 'send': 3, 'tomorrow': 3, 'procure': 1, 'where': 2, 'time': 1, 'perform': 1, 'rite': 1, 'fortunes': 1, 'lay': 1, 'follow': 1, 'lord': 1, 'throughout': 1, 'madam': 2, 'anonbut': 1, 'meanst': 1, 'beseech': 1, 'suit': 1, 'thrive': 1, 'soul': 2, 'thousand': 2, 'times': 2, 'worse': 1, 'want': 1, 'goes': 1, 'toward': 2, 'schoolboys': 1, 'books': 1, 'school': 1, 'heavy': 1, 'looks': 1, 'retiring': 1, 'hist': 2, 'falconers': 1, 'voice': 1, 'lure': 1, 'tasselgentle': 1, 'bondage': 1, 'hoarse': 2, 'aloud': 1, 'cave': 1, 'echo': 1, 'make': 1, 'tongue': 1, 'repetition': 1, 'romeos': 1, 'silversweet': 1, 'softest': 1, 'music': 1, 'attending': 1, 'oclock': 1, 'hour': 1, 'nine': 1, 'fail': 1, 'years': 1, 'forgot': 1, 'why': 1, 'stand': 2, 'remember': 1, 'forget': 2, 'still': 3, 'remembering': 1, 'company': 1, 'forgetting': 1, 'home': 1, 'almost': 1, 'morning': 1, 'gone': 1, 'further': 1, 'wantons': 1, 'bird': 2, 'lets': 1, 'hop': 1, 'poor': 1, 'prisoner': 1, 'his': 3, 'twisted': 1, 'gyves': 1, 'silk': 1, 'thread': 1, 'plucks': 1, 'lovingjealous': 1, 'liberty': 1, 'much': 1, 'cherishing': 1, 'parting': 1, 'sorrow': 1, 'morrow': 1, 'sleep': 2, 'peace': 2, 'hence': 1, 'ghostly': 1, 'fathers': 1, 'cell': 1, 'help': 1, 'crave': 1, 'hap': 1}\n"
     ]
    }
   ],
   "source": [
    "import string\n",
    "\n",
    "fname = input('Enter the file name: ')\n",
    "try:\n",
    "    fhand = open(fname)\n",
    "except:\n",
    "    print('File tidak bisa dibuka:', fname)\n",
    "    exit()\n",
    "\n",
    "counts = dict()\n",
    "for line in fhand:\n",
    "    line = line.rstrip()\n",
    "    line = line.translate(str.maketrans('', '', string.punctuation))\n",
    "    line = line.lower()\n",
    "    words = line.split()\n",
    "    for word in words:\n",
    "        counts[word] = counts.get(word, 0) + 1\n",
    "\n",
    "print(counts)"
   ]
  },
  {
   "cell_type": "code",
   "execution_count": 12,
   "id": "dc9a57e6-1224-47ee-aefc-e15a811cdb06",
   "metadata": {},
   "outputs": [
    {
     "name": "stdin",
     "output_type": "stream",
     "text": [
      "Input data =  5\n"
     ]
    },
    {
     "name": "stdout",
     "output_type": "stream",
     "text": [
      "Dictionary = {1: 1, 2: 4, 3: 9, 4: 16, 5: 25}\n"
     ]
    }
   ],
   "source": [
    "n = int(input(\"Input data = \"))\n",
    "kamus = dict()\n",
    "for x in range(1, n+1):\n",
    "    kamus[x] = x * x\n",
    "print(\"Dictionary =\", kamus)"
   ]
  },
  {
   "cell_type": "code",
   "execution_count": 28,
   "id": "214678ef-d649-412f-b455-9729ddb7b022",
   "metadata": {},
   "outputs": [
    {
     "name": "stdout",
     "output_type": "stream",
     "text": [
      "Nilai Unik: {'S005', 'S002', 'S001', 'S007', 'S009'}\n"
     ]
    }
   ],
   "source": [
    "data = [{\"V\":\"S001\"}, {\"V\": \"S002\"}, {\"VI\": \"S001\"}, {\"VI\": \"S005\"},{\"VII\":\"S005\"}, {\"V\":\"S009\"},{\"VIII\":\"S007\"}]\n",
    "nilai_unik = set(val for dic in data for val in dic.values())\n",
    "print(\"Nilai Unik:\", nilai_unik)\n"
   ]
  },
  {
   "cell_type": "code",
   "execution_count": 30,
   "id": "f1db4cd5-2a46-47cf-b87e-be0dc2eb51b7",
   "metadata": {},
   "outputs": [
    {
     "name": "stdin",
     "output_type": "stream",
     "text": [
      "Masukkan nama file :  romeo-full.txt\n",
      "Kata yang dicari :  who\n"
     ]
    },
    {
     "name": "stdout",
     "output_type": "stream",
     "text": [
      "\n",
      "Daftar Kamus : \n",
      "\n",
      "{'Romeo': 1, 'and': 2, 'Juliet': 3, 'Act': 4, '2,': 5, 'Scene': 6, '2': 7, 'SCENE': 8, 'II.': 9, \"Capulet's\": 10, 'orchard.': 11, 'Enter': 12, 'ROMEO': 13, 'He': 15, 'jests': 16, 'at': 17, 'scars': 18, 'that': 19, 'never': 20, 'felt': 21, 'a': 22, 'wound.': 23, 'JULIET': 24, 'appears': 25, 'above': 26, 'window': 29, 'But,': 30, 'soft!': 31, 'what': 32, 'light': 33, 'through': 34, 'yonder': 35, 'breaks?': 37, 'It': 38, 'is': 39, 'the': 40, 'east,': 41, 'sun.': 46, 'Arise,': 47, 'fair': 48, 'sun,': 49, 'kill': 51, 'envious': 53, 'moon,': 54, 'Who': 55, 'already': 57, 'sick': 58, 'pale': 60, 'with': 61, 'grief,': 62, 'That': 63, 'thou': 64, 'her': 65, 'maid': 66, 'art': 67, 'far': 68, 'more': 69, 'than': 71, 'she:': 72, 'Be': 73, 'not': 74, 'maid,': 76, 'since': 77, 'she': 78, 'envious;': 80, 'Her': 81, 'vestal': 82, 'livery': 83, 'but': 85, 'green': 88, 'And': 89, 'none': 90, 'fools': 92, 'do': 93, 'wear': 94, 'it;': 95, 'cast': 96, 'it': 97, 'off.': 98, 'my': 101, 'lady,': 102, 'O,': 103, 'love!': 107, 'knew': 111, 'were!': 113, 'She': 114, 'speaks': 115, 'yet': 116, 'says': 118, 'nothing:': 119, 'of': 121, 'that?': 122, 'eye': 124, 'discourses;': 125, 'I': 126, 'will': 127, 'answer': 128, 'it.': 129, 'am': 131, 'too': 132, 'bold,': 133, \"'tis\": 134, 'to': 136, 'me': 137, 'speaks:': 139, 'Two': 140, 'fairest': 143, 'stars': 144, 'in': 145, 'all': 146, 'heaven,': 148, 'Having': 149, 'some': 150, 'business,': 151, 'entreat': 153, 'eyes': 155, 'To': 156, 'twinkle': 157, 'their': 159, 'spheres': 160, 'till': 161, 'they': 162, 'return.': 163, 'What': 164, 'if': 165, 'were': 168, 'there,': 169, 'head?': 173, 'The': 174, 'brightness': 175, 'cheek': 178, 'would': 179, 'shame': 180, 'those': 181, 'stars,': 182, 'As': 183, 'daylight': 184, 'doth': 185, 'lamp;': 187, 'heaven': 191, 'Would': 192, 'airy': 195, 'region': 196, 'stream': 197, 'so': 198, 'bright': 199, 'birds': 201, 'sing': 203, 'think': 205, 'night.': 209, 'See,': 210, 'how': 211, 'leans': 213, 'upon': 216, 'hand!': 218, 'glove': 224, 'hand,': 227, 'might': 230, 'touch': 231, 'cheek!': 233, 'Ay': 235, 'me!': 236, 'speak': 241, 'again,': 242, 'angel!': 244, 'for': 245, 'glorious': 249, 'this': 251, 'night,': 252, 'being': 253, \"o'er\": 254, 'head': 256, 'winged': 260, 'messenger': 261, 'Unto': 264, 'white-upturned': 266, 'wondering': 267, 'Of': 269, 'mortals': 270, 'fall': 272, 'back': 273, 'gaze': 275, 'on': 276, 'him': 277, 'When': 278, 'he': 279, 'bestrides': 280, 'lazy-pacing': 282, 'clouds': 283, 'sails': 285, 'bosom': 288, 'air.': 291, 'O': 293, 'Romeo,': 294, 'Romeo!': 295, 'wherefore': 296, 'Romeo?': 299, 'Deny': 300, 'thy': 301, 'father': 302, 'refuse': 304, 'name;': 306, 'Or,': 307, 'wilt': 310, 'not,': 311, 'be': 312, 'sworn': 314, 'love,': 316, \"I'll\": 318, 'no': 319, 'longer': 320, 'Capulet.': 323, '[Aside]': 325, 'Shall': 326, 'hear': 328, 'more,': 329, 'or': 330, 'shall': 331, 'this?': 335, \"'Tis\": 337, 'name': 340, 'enemy;': 344, 'Thou': 345, 'thyself,': 347, 'though': 348, 'Montague.': 351, \"What's\": 352, 'Montague?': 353, 'nor': 356, 'foot,': 359, 'Nor': 360, 'arm,': 361, 'face,': 363, 'any': 365, 'other': 366, 'part': 367, 'Belonging': 368, 'man.': 371, 'name!': 376, 'name?': 380, 'which': 382, 'we': 383, 'call': 384, 'rose': 386, 'By': 387, 'smell': 392, 'as': 393, 'sweet;': 394, 'So': 395, 'would,': 397, \"call'd,\": 402, 'Retain': 403, 'dear': 405, 'perfection': 406, 'owes': 409, 'Without': 410, 'title.': 412, 'doff': 414, 'name,': 416, 'thee': 426, 'Take': 427, 'myself.': 429, 'take': 432, 'word:': 436, 'Call': 437, 'new': 444, 'baptized;': 445, 'Henceforth': 446, 'Romeo.': 451, 'man': 454, 'thus': 458, \"bescreen'd\": 459, 'night': 461, 'stumblest': 463, 'counsel?': 466, 'know': 472, 'tell': 476, 'who': 478, 'am:': 480, 'My': 481, 'saint,': 484, 'hateful': 486, 'myself,': 488, 'Because': 489, 'an': 492, 'enemy': 493, 'thee;': 495, 'Had': 496, 'written,': 499, 'tear': 502, 'word.': 504, 'ears': 507, 'have': 508, 'drunk': 511, 'hundred': 513, 'words': 514, \"tongue's\": 517, 'utterance,': 518, 'sound:': 523, 'Art': 524, 'Neither,': 532, 'either': 536, 'dislike.': 538, 'How': 540, 'camest': 541, 'hither,': 543, 'me,': 545, 'wherefore?': 547, 'orchard': 549, 'walls': 550, 'are': 551, 'high': 552, 'hard': 554, 'climb,': 556, 'place': 559, 'death,': 560, 'considering': 561, 'art,': 564, 'If': 565, 'kinsmen': 569, 'find': 570, 'here.': 572, 'With': 574, \"love's\": 575, 'wings': 577, 'did': 578, \"o'er-perch\": 580, 'these': 581, 'walls;': 582, 'For': 583, 'stony': 584, 'limits': 585, 'cannot': 586, 'hold': 587, 'love': 588, 'out,': 589, 'can': 593, 'dares': 596, 'attempt;': 598, 'Therefore': 599, 'let': 604, 'me.': 606, 'see': 611, 'thee,': 612, 'murder': 615, 'thee.': 616, 'Alack,': 618, 'there': 619, 'lies': 620, 'peril': 622, 'thine': 624, 'Than': 626, 'twenty': 627, 'swords:': 630, 'look': 631, 'sweet,': 634, 'proof': 638, 'against': 639, 'enmity.': 641, 'world': 648, 'saw': 650, \"night's\": 656, 'cloak': 657, 'hide': 659, 'from': 661, 'sight;': 663, 'them': 670, 'here:': 673, 'life': 675, 'better': 677, 'ended': 678, 'by': 679, 'hate,': 681, 'death': 683, 'prorogued,': 684, 'wanting': 685, 'love.': 688, 'whose': 691, 'direction': 692, \"found'st\": 693, 'out': 695, 'place?': 697, 'first': 702, 'prompt': 704, 'inquire;': 707, 'lent': 709, 'counsel': 711, 'eyes.': 716, 'pilot;': 720, 'yet,': 721, 'wert': 722, 'vast': 728, 'shore': 729, \"wash'd\": 730, 'farthest': 733, 'sea,': 734, 'adventure': 737, 'such': 739, 'merchandise.': 740, \"know'st\": 743, 'mask': 745, 'Else': 752, 'maiden': 755, 'blush': 756, 'bepaint': 757, 'hast': 764, 'heard': 765, 'to-night': 768, 'Fain': 769, 'dwell': 772, 'form,': 774, 'fain,': 775, 'fain': 776, 'deny': 777, 'spoke:': 781, 'farewell': 783, 'compliment!': 784, 'Dost': 785, 'me?': 788, 'say': 793, \"'Ay,'\": 794, \"swear'st,\": 804, 'mayst': 806, 'prove': 807, 'false;': 808, \"lovers'\": 810, 'perjuries': 811, 'Then': 812, 'say,': 813, 'Jove': 814, 'laughs.': 815, 'gentle': 817, 'dost': 821, 'pronounce': 823, 'faithfully:': 825, 'Or': 826, \"think'st\": 829, 'quickly': 833, 'won,': 834, 'frown': 836, 'perverse': 839, 'nay,': 843, 'woo;': 847, 'else,': 849, 'world.': 853, 'In': 854, 'truth,': 855, 'Montague,': 857, 'fond,': 861, 'therefore': 863, \"'havior\": 868, 'light:': 869, 'But': 870, 'trust': 871, 'gentleman,': 873, 'true': 877, 'cunning': 883, 'strange.': 886, 'should': 888, 'been': 890, 'strange,': 892, 'must': 894, 'confess,': 895, \"overheard'st,\": 899, 'ere': 900, 'was': 902, 'ware,': 903, 'passion:': 907, 'pardon': 909, 'impute': 913, 'yielding': 915, 'Which': 919, 'dark': 921, 'hath': 923, 'discovered.': 925, 'Lady,': 927, 'blessed': 930, 'moon': 931, 'swear': 933, 'tips': 935, 'silver': 937, 'fruit-tree': 940, 'tops--': 941, 'inconstant': 950, 'monthly': 953, 'changes': 954, 'circled': 957, 'orb,': 958, 'Lest': 959, 'likewise': 964, 'variable.': 965, 'by?': 971, 'Do': 973, 'all;': 977, 'wilt,': 981, 'gracious': 985, 'self,': 986, 'god': 990, 'idolatry,': 993, 'believe': 996, \"heart's\": 1001, 'love--': 1003, 'Well,': 1005, 'swear:': 1008, 'although': 1009, 'joy': 1011, 'contract': 1020, 'to-night:': 1021, 'rash,': 1025, 'unadvised,': 1027, 'sudden;': 1029, 'Too': 1030, 'like': 1031, 'lightning,': 1033, 'cease': 1036, 'Ere': 1039, 'one': 1040, \"'It\": 1043, \"lightens.'\": 1044, 'Sweet,': 1045, 'good': 1046, 'night!': 1047, 'This': 1048, 'bud': 1049, \"summer's\": 1053, 'ripening': 1054, 'breath,': 1055, 'May': 1056, 'beauteous': 1059, 'flower': 1060, 'when': 1061, 'next': 1062, 'meet.': 1064, 'Good': 1065, 'sweet': 1070, 'repose': 1071, 'rest': 1073, 'Come': 1074, 'heart': 1077, 'within': 1080, 'breast!': 1082, 'leave': 1087, 'unsatisfied?': 1090, 'satisfaction': 1093, 'canst': 1094, 'to-night?': 1097, 'exchange': 1100, 'faithful': 1104, 'vow': 1105, 'mine.': 1107, 'gave': 1110, 'mine': 1112, 'before': 1113, 'didst': 1115, 'request': 1116, 'it:': 1117, 'give': 1125, 'again.': 1126, 'Wouldst': 1128, 'withdraw': 1130, 'it?': 1131, 'purpose,': 1134, 'love?': 1135, 'frank,': 1140, 'wish': 1149, 'thing': 1153, 'have:': 1155, 'bounty': 1157, 'boundless': 1160, 'deep;': 1167, 'have,': 1177, 'both': 1179, 'infinite.': 1181, 'Nurse': 1182, 'calls': 1183, 'noise': 1188, 'within;': 1189, 'adieu!': 1192, 'Anon,': 1193, 'nurse!': 1195, 'Sweet': 1196, 'true.': 1199, 'Stay': 1200, 'little,': 1203, 'come': 1206, 'Exit,': 1208, 'blessed,': 1212, 'afeard.': 1217, 'Being': 1218, 'dream,': 1226, 'flattering-sweet': 1228, 'substantial.': 1231, 'Re-enter': 1232, 'JULIET,': 1233, 'Three': 1236, 'words,': 1237, 'indeed.': 1243, 'bent': 1247, 'honourable,': 1251, 'Thy': 1252, 'purpose': 1253, 'marriage,': 1254, 'send': 1255, 'word': 1257, 'to-morrow,': 1258, 'procure': 1263, 'Where': 1268, 'time': 1271, 'perform': 1274, 'rite;': 1276, 'fortunes': 1280, 'foot': 1283, 'lay': 1285, 'follow': 1287, 'lord': 1290, 'throughout': 1291, '[Within]': 1295, 'Madam!': 1296, 'come,': 1299, 'anon.--But': 1300, \"mean'st\": 1303, 'well,': 1305, 'beseech': 1308, 'thee--': 1309, 'by,': 1316, 'come:--': 1318, 'suit,': 1322, 'grief:': 1328, 'To-morrow': 1329, 'send.': 1332, 'thrive': 1335, 'soul--': 1337, 'A': 1339, 'thousand': 1340, 'times': 1341, 'worse,': 1351, 'want': 1353, 'light.': 1355, 'Love': 1356, 'goes': 1357, 'toward': 1358, 'schoolboys': 1361, 'books,': 1364, 'school': 1370, 'heavy': 1372, 'looks.': 1373, 'Retiring': 1374, 'Hist!': 1379, 'hist!': 1381, \"falconer's\": 1385, 'voice,': 1386, 'lure': 1388, 'tassel-gentle': 1390, 'again!': 1392, 'Bondage': 1393, 'hoarse,': 1395, 'may': 1397, 'aloud;': 1400, 'cave': 1406, 'where': 1407, 'Echo': 1408, 'lies,': 1409, 'make': 1411, 'tongue': 1414, 'hoarse': 1416, 'mine,': 1418, 'repetition': 1420, \"Romeo's\": 1423, 'name.': 1424, 'soul': 1429, 'name:': 1434, 'silver-sweet': 1436, 'sound': 1437, 'tongues': 1439, 'Like': 1442, 'softest': 1443, 'music': 1444, 'attending': 1446, 'ears!': 1447, 'dear?': 1452, 'At': 1454, \"o'clock\": 1456, 'to-morrow': 1457, 'thee?': 1462, 'hour': 1466, 'nine.': 1468, 'fail:': 1473, 'years': 1476, 'then.': 1478, 'forgot': 1481, 'why': 1482, 'back.': 1487, 'Let': 1489, 'stand': 1491, 'here': 1492, 'remember': 1495, 'forget,': 1500, 'still': 1504, 'Remembering': 1507, 'company.': 1512, 'stay,': 1517, 'Forgetting': 1523, 'home': 1526, 'this.': 1528, 'almost': 1531, 'morning;': 1532, 'gone:': 1537, 'further': 1541, \"wanton's\": 1544, 'bird;': 1545, 'lets': 1547, 'hop': 1549, 'little': 1551, 'poor': 1557, 'prisoner': 1558, 'his': 1560, 'twisted': 1561, 'gyves,': 1562, 'silk': 1566, 'thread': 1567, 'plucks': 1568, 'loving-jealous': 1573, 'liberty.': 1576, 'bird.': 1583, 'I:': 1588, 'Yet': 1589, 'much': 1595, 'cherishing.': 1596, 'parting': 1601, 'sorrow,': 1605, 'morrow.': 1615, 'Exit': 1616, 'Sleep': 1619, 'eyes,': 1623, 'peace': 1624, 'sleep': 1631, 'peace,': 1633, 'rest!': 1637, 'Hence': 1638, 'ghostly': 1643, \"father's\": 1644, 'cell,': 1645, 'His': 1646, 'help': 1647, 'crave,': 1649, 'hap': 1653, 'tell.': 1655}\n",
      "\n",
      "Kata who ditemukan dalam kamus\n"
     ]
    }
   ],
   "source": [
    "dictionary_words = dict()\n",
    "fname = input('Masukkan nama file : ')\n",
    "fword = input('Kata yang dicari : ')\n",
    "\n",
    "try:\n",
    "    fhand = open(fname)\n",
    "except FileNotFoundError:\n",
    "    print('File tidak bisa dibuka !!', fname)\n",
    "    exit()\n",
    "\n",
    "count = 0\n",
    "for line in fhand:\n",
    "    words = line.split()\n",
    "    for word in words:\n",
    "        count += 1\n",
    "        if word in dictionary_words:\n",
    "            continue\n",
    "        dictionary_words[word] = count\n",
    "\n",
    "print('\\nDaftar Kamus : \\n')\n",
    "print(dictionary_words)\n",
    "\n",
    "if fword in dictionary_words:\n",
    "    print(f'\\nKata {fword} ditemukan dalam kamus')\n",
    "else:\n",
    "    print(f'\\nKata {fword} tidak ditemukan dalam kamus')"
   ]
  },
  {
   "cell_type": "code",
   "execution_count": 32,
   "id": "483cde1d-2e74-4b9d-a665-adcd8c21a2db",
   "metadata": {},
   "outputs": [
    {
     "name": "stdin",
     "output_type": "stream",
     "text": [
      "Enter a file name:  romeo-full.txt\n"
     ]
    },
    {
     "name": "stdout",
     "output_type": "stream",
     "text": [
      "{}\n"
     ]
    }
   ],
   "source": [
    "dictionary_days = dict()\n",
    "fname = input('Enter a file name: ')\n",
    "\n",
    "try:\n",
    "    fhand = open(fname)\n",
    "except FileNotFoundError:\n",
    "    print('File cannot be opened:', fname)\n",
    "    exit()\n",
    "\n",
    "for line in fhand:\n",
    "    words = line.split()\n",
    "    if len(words) < 3 or words[0] != 'From':\n",
    "        continue\n",
    "    dictionary_days[words[2]] = dictionary_days.get(words[2], 0) + 1\n",
    "\n",
    "print(dictionary_days)"
   ]
  },
  {
   "cell_type": "code",
   "execution_count": null,
   "id": "133079e1-e433-4480-be70-2eafec29d8f8",
   "metadata": {},
   "outputs": [],
   "source": []
  }
 ],
 "metadata": {
  "kernelspec": {
   "display_name": "Python [conda env:base] *",
   "language": "python",
   "name": "conda-base-py"
  },
  "language_info": {
   "codemirror_mode": {
    "name": "ipython",
    "version": 3
   },
   "file_extension": ".py",
   "mimetype": "text/x-python",
   "name": "python",
   "nbconvert_exporter": "python",
   "pygments_lexer": "ipython3",
   "version": "3.12.7"
  }
 },
 "nbformat": 4,
 "nbformat_minor": 5
}
