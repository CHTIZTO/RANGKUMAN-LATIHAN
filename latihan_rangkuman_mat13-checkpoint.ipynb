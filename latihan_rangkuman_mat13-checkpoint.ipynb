{
 "cells": [
  {
   "cell_type": "code",
   "execution_count": null,
   "id": "8a64b7d9-e031-4be2-99dc-637f173c9c28",
   "metadata": {},
   "outputs": [],
   "source": [
    "bilangan_genap = {2, 4, 6, 8, 10, 12}\n",
    "bilangan_ganjil = {1, 3, 5, 7, 9, 11}"
   ]
  },
  {
   "cell_type": "code",
   "execution_count": null,
   "id": "4b963397-e034-472c-af80-f5b324dcf26a",
   "metadata": {},
   "outputs": [],
   "source": [
    "pernah_ke_bulan = set(('Neil Armstrong', 'Buzz Aldrin'))"
   ]
  },
  {
   "cell_type": "code",
   "execution_count": 1,
   "id": "d2edecf0-44a7-4931-b835-7a845b02faad",
   "metadata": {},
   "outputs": [
    {
     "name": "stdout",
     "output_type": "stream",
     "text": [
      "3\n",
      "71200214\n",
      "71200195\n",
      "71200120\n"
     ]
    }
   ],
   "source": [
    "nim = {'71200120', '71200195', '71200214'}\n",
    "jumlah_nim = len(nim)\n",
    "print(jumlah_nim)  \n",
    "\n",
    "for n in nim:\n",
    "    print(n)"
   ]
  },
  {
   "cell_type": "code",
   "execution_count": 3,
   "id": "2da8a5f7-0c3b-468a-bd83-4dd927c54d90",
   "metadata": {},
   "outputs": [
    {
     "name": "stdout",
     "output_type": "stream",
     "text": [
      "2\n",
      "AD 6810 MT\n",
      "AB 1890 XA\n"
     ]
    }
   ],
   "source": [
    "plat_nomor = set()\n",
    "plat_nomor.add('AB 1890 XA')\n",
    "plat_nomor.add('AD 6810 MT')\n",
    "print(len(plat_nomor))\n",
    "\n",
    "plat_nomor.add('AB 1890 XA')\n",
    "\n",
    "for plat in plat_nomor:\n",
    "    print(plat)"
   ]
  },
  {
   "cell_type": "code",
   "execution_count": 5,
   "id": "525824be-ded1-41ed-9e7d-eaad50c108e7",
   "metadata": {},
   "outputs": [
    {
     "name": "stdout",
     "output_type": "stream",
     "text": [
      "{29, 23, 7, 11, 13}\n",
      "{29, 23, 7, 11, 13}\n",
      "29\n",
      "{23, 7, 11, 13}\n",
      "set()\n"
     ]
    }
   ],
   "source": [
    "bilangan_prima = {13, 23, 7, 29, 11, 5}\n",
    "bilangan_prima.remove(5)\n",
    "print(bilangan_prima)\n",
    "\n",
    "bilangan_prima.discard(97)\n",
    "print(bilangan_prima)\n",
    "\n",
    "bilangan = bilangan_prima.pop()\n",
    "print(bilangan)\n",
    "print(bilangan_prima)\n",
    "\n",
    "bilangan_prima.clear()\n",
    "print(bilangan_prima)"
   ]
  },
  {
   "cell_type": "code",
   "execution_count": 7,
   "id": "2fff11d7-fcae-4719-8066-d6dd54833efb",
   "metadata": {},
   "outputs": [
    {
     "name": "stdout",
     "output_type": "stream",
     "text": [
      "{'kembung', 'koi', 'koki', 'salmon'}\n",
      "{'kembung', 'salmon', 'koki', 'teri'}\n"
     ]
    }
   ],
   "source": [
    "ikan = set(['koi', 'koki', 'kembung', 'salmon'])\n",
    "print(ikan)\n",
    "\n",
    "ikan.remove('koi')\n",
    "ikan.add('teri')\n",
    "print(ikan)"
   ]
  },
  {
   "cell_type": "code",
   "execution_count": 9,
   "id": "48a246ee-d90c-4753-a10c-78812f759553",
   "metadata": {},
   "outputs": [
    {
     "name": "stdout",
     "output_type": "stream",
     "text": [
      "{'Panasonic', 'Xiaomi', 'Samsung', 'Sony', 'LG', 'Apple', 'Daikin'}\n"
     ]
    }
   ],
   "source": [
    "merek_hp = {'Samsung', 'Apple', 'Xiaomi', 'Sony'}\n",
    "merek_ac = {'LG', 'Samsung', 'Panasonic', 'Daikin', 'Sony'}\n",
    "gabungan = merek_hp | merek_ac\n",
    "print(gabungan)"
   ]
  },
  {
   "cell_type": "code",
   "execution_count": 11,
   "id": "da8e7423-903f-490f-9a0f-f2f183672f45",
   "metadata": {},
   "outputs": [
    {
     "name": "stdout",
     "output_type": "stream",
     "text": [
      "{'mail', 'upin', 'ipin'}\n"
     ]
    }
   ],
   "source": [
    "renang = {'siti', 'mail', 'ikhsan', 'upin', 'ipin'}\n",
    "tenis = {'joko', 'mail', 'ipin', 'upin', 'tejo'}\n",
    "renang_tenis = renang & tenis\n",
    "print(renang_tenis)"
   ]
  },
  {
   "cell_type": "code",
   "execution_count": 13,
   "id": "115d889c-ebe7-4032-9416-175b935f46a5",
   "metadata": {},
   "outputs": [
    {
     "name": "stdout",
     "output_type": "stream",
     "text": [
      "{'erika', 'yeona'}\n",
      "{'tono', 'evan', 'desi', 'takashi'}\n"
     ]
    }
   ],
   "source": [
    "english = {'desi', 'tono', 'evan', 'miko', 'takashi', 'chaewon'}\n",
    "korean = {'chaewon', 'yeona', 'erika', 'miko'}\n",
    "\n",
    "only_korean = korean - english\n",
    "print(only_korean)\n",
    "\n",
    "only_english = english - korean\n",
    "print(only_english)"
   ]
  },
  {
   "cell_type": "code",
   "execution_count": 15,
   "id": "6bf1c388-a34d-4d1c-a2d4-9b17a4cc4ec2",
   "metadata": {},
   "outputs": [
    {
     "name": "stdout",
     "output_type": "stream",
     "text": [
      "{'takashi', 'erika', 'desi', 'tono', 'evan', 'yeona'}\n"
     ]
    }
   ],
   "source": [
    "english = {'desi', 'tono', 'evan', 'miko', 'takashi', 'chaewon'}\n",
    "korean = {'chaewon', 'yeona', 'erika', 'miko'}\n",
    "one_language = english ^ korean\n",
    "print(one_language)"
   ]
  },
  {
   "cell_type": "code",
   "execution_count": 19,
   "id": "6e0896ab-1281-4c30-a201-d84958b0e495",
   "metadata": {},
   "outputs": [
    {
     "name": "stdout",
     "output_type": "stream",
     "text": [
      "35\n"
     ]
    }
   ],
   "source": [
    "def unique_sum(list_angka):\n",
    "    data_set = set(list_angka)\n",
    "    total = 0\n",
    "    for angka in data_set:\n",
    "        total += angka\n",
    "    return total\n",
    "    \n",
    "data = [2, 4, 3, 2, 7, 8, 6, 4, 5, 5]\n",
    "print(unique_sum(data))"
   ]
  },
  {
   "cell_type": "code",
   "execution_count": 23,
   "id": "6c930a56-f259-4fc9-9bd0-d713e5d94b2e",
   "metadata": {},
   "outputs": [
    {
     "name": "stdout",
     "output_type": "stream",
     "text": [
      "True\n",
      "False\n"
     ]
    }
   ],
   "source": [
    "def cek_duplikat(string):\n",
    "    karakter_set = set()\n",
    "    for karakter in string:\n",
    "        if karakter in karakter_set:\n",
    "            return True  \n",
    "        karakter_set.add(karakter)\n",
    "    return False  \n",
    "\n",
    "print(cek_duplikat('Alexander the Great'))  \n",
    "print(cek_duplikat('UKDW'))  "
   ]
  },
  {
   "cell_type": "code",
   "execution_count": 25,
   "id": "8bd06c41-0b23-46de-9ebf-eb29d94b66d2",
   "metadata": {},
   "outputs": [
    {
     "name": "stdin",
     "output_type": "stream",
     "text": [
      "Masukkan jumlah kategori:  2\n",
      "Masukkan nama kategori:  finance\n"
     ]
    },
    {
     "name": "stdout",
     "output_type": "stream",
     "text": [
      "Masukkan 5 nama aplikasi di kategori finance\n"
     ]
    },
    {
     "name": "stdin",
     "output_type": "stream",
     "text": [
      "Nama aplikasi:  rti saham\n",
      "Nama aplikasi:  mirae\n",
      "Nama aplikasi:  ipot\n",
      "Nama aplikasi:  poems\n",
      "Nama aplikasi:  calculator\n",
      "Masukkan nama kategori:  utilities\n"
     ]
    },
    {
     "name": "stdout",
     "output_type": "stream",
     "text": [
      "Masukkan 5 nama aplikasi di kategori utilities\n"
     ]
    },
    {
     "name": "stdin",
     "output_type": "stream",
     "text": [
      "Nama aplikasi:  photos\n",
      "Nama aplikasi:  weather\n",
      "Nama aplikasi:  calculator\n",
      "Nama aplikasi:  camera\n",
      "Nama aplikasi:  notes\n"
     ]
    },
    {
     "name": "stdout",
     "output_type": "stream",
     "text": [
      "{'finance': ['rti saham', 'mirae', 'ipot', 'poems', 'calculator'], 'utilities': ['photos', 'weather', 'calculator', 'camera', 'notes']}\n",
      "Aplikasi yang muncul di semua kategori: {'calculator'}\n"
     ]
    }
   ],
   "source": [
    "n = int(input('Masukkan jumlah kategori: '))\n",
    "data_aplikasi = {}\n",
    "\n",
    "for i in range(n):\n",
    "    nama_kategori = input('Masukkan nama kategori: ')\n",
    "    print('Masukkan 5 nama aplikasi di kategori', nama_kategori)\n",
    "    aplikasi = []\n",
    "    for j in range(5):\n",
    "        nama_aplikasi = input('Nama aplikasi: ')\n",
    "        aplikasi.append(nama_aplikasi)\n",
    "    data_aplikasi[nama_kategori] = aplikasi\n",
    "\n",
    "print(data_aplikasi)\n",
    "\n",
    "daftar_aplikasi_list = []\n",
    "for aplikasi in data_aplikasi.values():\n",
    "    daftar_aplikasi_list.append(set(aplikasi))\n",
    "\n",
    "hasil = daftar_aplikasi_list[0]\n",
    "for i in range(1, len(daftar_aplikasi_list)):\n",
    "    hasil = hasil.intersection(daftar_aplikasi_list[i])\n",
    "\n",
    "print(\"Aplikasi yang muncul di semua kategori:\", hasil)"
   ]
  },
  {
   "cell_type": "code",
   "execution_count": null,
   "id": "6a875bdf-a6b3-4ff2-b227-ce91b2438c3e",
   "metadata": {},
   "outputs": [],
   "source": []
  }
 ],
 "metadata": {
  "kernelspec": {
   "display_name": "Python [conda env:base] *",
   "language": "python",
   "name": "conda-base-py"
  },
  "language_info": {
   "codemirror_mode": {
    "name": "ipython",
    "version": 3
   },
   "file_extension": ".py",
   "mimetype": "text/x-python",
   "name": "python",
   "nbconvert_exporter": "python",
   "pygments_lexer": "ipython3",
   "version": "3.12.7"
  }
 },
 "nbformat": 4,
 "nbformat_minor": 5
}
